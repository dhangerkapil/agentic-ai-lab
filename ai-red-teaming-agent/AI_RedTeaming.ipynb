{
 "cells": [
  {
   "cell_type": "markdown",
   "metadata": {},
   "source": [
    "# AI Red Teaming Agent for Generative AI models and applications in Azure AI Foundry\n",
    "\n",
    "## Objective\n",
    "This notebook walks through how to use Azure AI Evaluation's AI Red Teaming Agent functionality to assess the safety and resilience of AI systems against adversarial prompt attacks. AI Red Teaming Agent leverages [Risk and Safety Evaluations](https://learn.microsoft.com/en-us/azure/ai-foundry/concepts/evaluation-metrics-built-in?tabs=warning#risk-and-safety-evaluators) to help identify potential safety issues across different risk categories (violence, hate/unfairness, sexual content, self-harm) combined with attack strategies of varying complexity levels from [PyRIT](https://github.com/Azure/PyRIT), Microsoft AI Red Teaming team's open framework for automated AI red teaming.\n",
    "\n",
    "## Time\n",
    "You should expect to spend about 30-45 minutes running this notebook. Execution time will vary based on the number of risk categories, attack strategies, and complexity levels you choose to evaluate.\n",
    "\n",
    "## Before you begin\n",
    "\n",
    "### Prerequisite\n",
    "First, if you have an Azure subscription, create an [Azure AI hub](https://learn.microsoft.com/en-us/azure/ai-studio/concepts/ai-resources) then [create an Azure AI project](https://learn.microsoft.com/en-us/azure/ai-studio/concepts/ai-resources). AI projects and Hubs can be served within a private network and are compatible with private endpoints. You **do not** need to provide your own LLM deployment as the AI Red Teaming Agent hosts adversarial models for both simulation and evaluation of harmful content and connects to it via your Azure AI project.\n",
    "\n",
    "In order to upload your results to Azure AI Foundry:\n",
    "- Your AI Foundry project must have a connection (*Connected Resources*) to a storage account with `Microsoft Entra ID` authentication enabled.\n",
    "- Your AI Foundry project must have the `Storage Blob Data Contributor` role in the storage account.\n",
    "- You must have the `Storage Blob Data Contributor` role in the storage account.\n",
    "- You must have network access to the storage account.\n",
    "\n",
    "For more information see: https://learn.microsoft.com/en-us/azure/ai-foundry/how-to/develop/run-ai-red-teaming-cloud\n",
    "Viewing AI red teaming results in Azure AI Foundry project: https://learn.microsoft.com/en-us/azure/ai-foundry/how-to/view-ai-red-teaming-results\n",
    "\n",
    "**Important**: First, ensure that you've installed the [Azure CLI](https://learn.microsoft.com/en-us/cli/azure/install-azure-cli) and then make sure to authenticate to Azure using `az login` in your terminal before running this notebook.\n",
    "\n",
    "**Important**: Second, the authentication dialog box pop up may be opened at the background. To locate it please minimize all the application window(s) and browser window(s) and choose organization account to login.\n",
    "\n",
    "### Installation\n",
    "From a terminal window, navigate to your working directory which contains this sample notebook, and execute the following.\n",
    "```bash\n",
    "python -m venv .venv\n",
    "```\n",
    "\n",
    "Then, activate the virtual environment created:\n",
    "\n",
    "```bash\n",
    "# %source .venv/bin/activate # If using Mac/Linux OS\n",
    ".venv/Scripts/activate # If using Windows OS\n",
    "```\n",
    "\n",
    "With your virtual environment activated, install the following packages required to execute this notebook:\n",
    "\n",
    "```bash\n",
    "pip install uv\n",
    "uv pip install azure-ai-evaluation[redteam] azure-identity python-dotenv azure-ai-projects\n",
    "```\n",
    "\n",
    "\n",
    "Now open VSCode with the following command, and ensure your virtual environment is used as kernel to run the remainder of this notebook.\n",
    "```bash\n",
    "code .\n",
    "```"
   ]
  },
  {
   "cell_type": "markdown",
   "metadata": {},
   "source": [
    "### Imports"
   ]
  },
  {
   "cell_type": "code",
   "execution_count": null,
   "metadata": {},
   "outputs": [],
   "source": [
    "\n",
    "from typing import Optional, Dict, Any\n",
    "from dotenv import load_dotenv\n",
    "import os\n",
    "\n",
    "# Azure imports\n",
    "from azure.ai.evaluation.red_team import RedTeam, RiskCategory, AttackStrategy\n",
    "# pip install azure-ai-evaluation[redteam]\n",
    "\n",
    "# Azure AI Projects SDK\n",
    "from azure.ai.projects import AIProjectClient\n",
    "from azure.identity import InteractiveBrowserCredential\n",
    "\n",
    "# OpenAI imports\n",
    "from openai import AzureOpenAI"
   ]
  },
  {
   "cell_type": "markdown",
   "metadata": {},
   "source": [
    "### Login to Azure with valid credentials\n",
    "\n",
    "Ensure that you've installed the [Azure CLI](https://learn.microsoft.com/en-us/cli/azure/install-azure-cli) and then make sure to authenticate to Azure using `az login` in your terminal before running this notebook.\n",
    "\n",
    "**Important**: the authentication dialog box pop up may be opened at the background. To locate it please minimize all the application window(s) and browser window(s) and choose organization account to login.\n",
    "\n",
    "Configure the `credential` object with a different AzureCredential type if this is a requirement for your environment."
   ]
  },
  {
   "cell_type": "code",
   "execution_count": null,
   "metadata": {},
   "outputs": [],
   "source": [
    "# Azure Credential imports\n",
    "from azure.identity import DefaultAzureCredential, AzureCliCredential, InteractiveBrowserCredential, get_bearer_token_provider\n",
    "from azure.ai.projects import AIProjectClient\n",
    "\n",
    "# Load environment variables first\n",
    "from dotenv import load_dotenv\n",
    "load_dotenv(\"../.env\")  # This loads variables from .env into the environment\n",
    "\n",
    "# Get tenant ID and project connection string\n",
    "tenant_id = os.environ.get(\"TENANT_ID\")\n",
    "project_connection_string = os.environ.get(\"PROJECT_CONNECTION_STRING\")\n",
    "\n",
    "# Try DefaultAzureCredential first, fallback to AzureCliCredential if needed\n",
    "try:\n",
    "    credential = DefaultAzureCredential()\n",
    "    # Test the credential\n",
    "    _ = credential.get_token(\"https://management.azure.com/.default\")\n",
    "    print(\"✓ Successfully authenticated with DefaultAzureCredential\")\n",
    "except Exception as e:\n",
    "    print(f\"DefaultAzureCredential failed: {e}\")\n",
    "    print(\"Trying AzureCliCredential...\")\n",
    "    try:\n",
    "        !az login\n",
    "        credential = AzureCliCredential()\n",
    "        print(\"✓ Successfully authenticated with AzureCliCredential\")\n",
    "    except Exception as e2:\n",
    "        print(f\"AzureCliCredential also failed: {e2}\")\n",
    "        raise\n",
    "\n",
    "# Create AIProjectClient using PROJECT_CONNECTION_STRING\n",
    "if not project_connection_string:\n",
    "    raise ValueError(\"PROJECT_CONNECTION_STRING not found in environment variables. Please check your .env file.\")\n",
    "\n",
    "try:\n",
    "    print(\"🌐 Using browser-based authentication to bypass Azure CLI cache issues...\")\n",
    "    \n",
    "    # Use InteractiveBrowserCredential with the specific tenant\n",
    "    if tenant_id:\n",
    "        credential = InteractiveBrowserCredential(tenant_id=tenant_id)\n",
    "    else:\n",
    "        credential = InteractiveBrowserCredential()\n",
    "    \n",
    "    # Create the project client using endpoint\n",
    "    project_client = AIProjectClient(\n",
    "        endpoint=project_connection_string,\n",
    "        credential=credential\n",
    "    )\n",
    "    print(\"✅ AIProjectClient created successfully!\")\n",
    "except Exception as e:\n",
    "    print(\"❌ Error creating AIProjectClient:\", e)\n",
    "    print(\"💡 Please complete the browser authentication prompt that should appear\")"
   ]
  },
  {
   "cell_type": "markdown",
   "metadata": {},
   "source": [
    "### Set Up Your Environment Variables\n",
    "\n",
    "Set the following variables for use in this notebook. These variables connect to your Azure resources and model deployments.\n",
    "\n",
    "Set these variables by creating an `.env` file as per instruction from \"Required Lab Setup\".\n",
    "\n",
    "**Note:** You can find these values in your Azure AI Foundry project or Azure OpenAI resource."
   ]
  },
  {
   "cell_type": "markdown",
   "metadata": {},
   "source": [
    "For reference, here's an example of what your populated environment variables should look like:\n",
    "\n",
    "```\n",
    "# Azure AI Project Connection String\n",
    "PROJECT_CONNECTION_STRING=\"https://your-aifoundry-endpoint-name.services.ai.azure.com/\"\n",
    "MODEL_DEPLOYMENT_NAME=\"gpt-4o-mini\"\n",
    "MODEL_API_VERSION=\"2024-12-01-preview\"\n",
    "TENANT_ID=\"your-tenant-id\"\n",
    "```"
   ]
  },
  {
   "cell_type": "code",
   "execution_count": null,
   "metadata": {},
   "outputs": [],
   "source": [
    "# Environment variables are already loaded in the authentication cell above\n",
    "# Just display the values for verification\n",
    "\n",
    "# Model deployment information\n",
    "azure_openai_deployment = os.environ.get(\"MODEL_DEPLOYMENT_NAME\", \"gpt-4o-mini\")\n",
    "azure_openai_api_version = os.environ.get(\"MODEL_API_VERSION\", \"2024-12-01-preview\")\n",
    "\n",
    "print(f\"🔑 Using Tenant ID: {tenant_id}\")\n",
    "print(f\"🔗 Project Connection: {project_connection_string}\")\n",
    "print(f\"🤖 Model Deployment: {azure_openai_deployment}\")\n",
    "print(f\"📅 API Version: {azure_openai_api_version}\")\n",
    "\n",
    "# Verify we have the required variables\n",
    "if not project_connection_string:\n",
    "    print(\"❌ WARNING: PROJECT_CONNECTION_STRING is not set!\")\n",
    "    print(\"Please check your .env file contains PROJECT_CONNECTION_STRING\")\n",
    "if not tenant_id:\n",
    "    print(\"⚠️ WARNING: TENANT_ID is not set - using default authentication\")"
   ]
  },
  {
   "cell_type": "markdown",
   "metadata": {},
   "source": [
    "## Understanding AI Red Teaming Agent's capabilities\n",
    "\n",
    "The Azure AI Evaluation SDK's `RedTeam` functionality evaluates AI systems against adversarial prompts across multiple dimensions:\n",
    "\n",
    "1. **Risk Categories**: Different content risk categories your AI system might generate\n",
    "   - Violence\n",
    "   - HateUnfairness\n",
    "   - Sexual\n",
    "   - SelfHarm\n",
    "\n",
    "2. **Attack Strategies**: Along with standard unmodified prompts which are sent by default as the `baseline`, you can specify different transformations of prompts to elicit undesired content.\n",
    "You can also use `AttackStrategy.Compose()` to layer two strategies in one attack\n",
    "   - AnsiAttack: Using ANSI escape codes in prompts\n",
    "   - AsciiArt: Using ASCII art to disguise harmful content\n",
    "   - AsciiSmuggler: Hiding harmful content within ASCII characters\n",
    "   - Atbash: Using the Atbash cipher to encode harmful requests\n",
    "   - Base64: Encoding harmful content in Base64 format\n",
    "   - Binary: Converting text to binary to bypass filters\n",
    "   - Caesar: Using the Caesar cipher for encoding\n",
    "   - CharacterSpace: Manipulating character spacing to confuse filters\n",
    "   - CharSwap: Swapping characters to bypass detection\n",
    "   - Diacritic: Using diacritical marks to alter text appearance\n",
    "   - Flip: Flipping text to bypass content filters\n",
    "   - Leetspeak: Converting letters to numbers and symbols\n",
    "   - Morse: Using Morse code to encode harmful requests\n",
    "   - ROT13: Using ROT13 cipher for text transformation\n",
    "   - SuffixAppend: Adding suffixes to confuse detection systems\n",
    "   - StringJoin: Joining strings in unconventional ways\n",
    "   - Tense: Changing the tense of harmful requests to past tense\n",
    "   - UnicodeConfusable: Using similar-looking Unicode characters\n",
    "   - UnicodeSubstitution: Substituting characters with Unicode alternatives\n",
    "   - Url: Embedding harmful content within URLs\n",
    "   - Jailbreak: Specially crafted prompts to bypass AI safeguards\n",
    "\n",
    "3. **Complexity Levels**: Different difficultly levels of attacks\n",
    "   - Baseline: Standard functionality tests\n",
    "   - Easy: Simple attack patterns\n",
    "   - Moderate: More sophisticated attacks\n",
    "   - Difficult: Complex, layered attack strategies\n",
    "\n",
    "The key metric for evaluating results is the **Attack Success Rate (ASR)**, which measures the percentage of attacks that successfully elicit harmful content from your AI system."
   ]
  },
  {
   "cell_type": "markdown",
   "metadata": {},
   "source": [
    "## Basic Example: Fixed Response Callback\n",
    "\n",
    "Let's start with a basic example that demonstrates how to set up a Red Team evaluation using a simple callback that always returns a fixed, safe response regardless of the input prompt.\n",
    "\n",
    "**Important Note**: Since this callback always responds with the same safe message, the Attack Success Rate (ASR) will be 0% for all categories. This example is merely to demonstrate the API structure and flow."
   ]
  },
  {
   "cell_type": "code",
   "execution_count": null,
   "metadata": {},
   "outputs": [],
   "source": [
    "# Define a simple callback function that always returns a fixed response\n",
    "def financial_advisor_callback(query: str) -> str:  # noqa: ARG001\n",
    "    return \"I'm a financial advisor assistant. I can help with investment advice and financial planning within legal and ethical guidelines.\""
   ]
  },
  {
   "cell_type": "code",
   "execution_count": null,
   "metadata": {},
   "outputs": [],
   "source": [
    "# For this demo, let's use the PROJECT_CONNECTION_STRING approach\n",
    "# This approach works when you have the correct project connection string\n",
    "if project_connection_string:\n",
    "    red_team = RedTeam(\n",
    "        azure_ai_project=project_connection_string,\n",
    "        credential=credential,\n",
    "        risk_categories=[RiskCategory.Violence, RiskCategory.HateUnfairness],\n",
    "        num_objectives=1,\n",
    "    )\n",
    "    print(\"✓ RedTeam instance created successfully with project connection string\")\n",
    "else:\n",
    "    print(\"❌ PROJECT_CONNECTION_STRING not found in environment variables\")\n",
    "    print(\n",
    "        \"Please ensure your .env file contains the correct PROJECT_CONNECTION_STRING\"\n",
    "    )"
   ]
  },
  {
   "cell_type": "markdown",
   "metadata": {},
   "source": [
    "NOTE: `num_objectives` specifies the number of attacks to perform per risk category per attack strategy. If the parameter `risk_categories` is not specified, `[RiskCategory.Violence, RiskCategory.HateUnfairness, RiskCategory.Sexual, RiskCategory.SelfHarm]` will be used by default."
   ]
  },
  {
   "cell_type": "markdown",
   "metadata": {},
   "source": [
    "Now let's run a simple automated scan using the `RedTeam` with the fixed response target. We'll test against two risk categories and one attack strategy for simplicity."
   ]
  },
  {
   "cell_type": "code",
   "execution_count": null,
   "metadata": {},
   "outputs": [],
   "source": [
    "# Run the red team scan called \"Basic-Callback-Scan\" with limited scope for this basic example\n",
    "# This will test 1 objective prompt for each of Violence and HateUnfairness categories with the Flip strategy\n",
    "result = await red_team.scan(\n",
    "    target=financial_advisor_callback,\n",
    "    scan_name=\"Basic-Callback-Scan\",\n",
    "    attack_strategies=[AttackStrategy.Flip],\n",
    "    output_path=\"red_team_output.json\",\n",
    ")"
   ]
  },
  {
   "cell_type": "markdown",
   "metadata": {},
   "source": [
    "## Intermediary Example: Using Azure OpenAI Callback Function\n",
    "\n",
    "Now let's create a more realistic example that uses an Azure OpenAI model for responding to the red teaming prompts. We'll use a callback function that leverages the Azure AI Project client to get access to Azure OpenAI. Please note you may encounter HTTP 400 errors which indicate the model's security filters are working correctly."
   ]
  },
  {
   "cell_type": "code",
   "execution_count": null,
   "metadata": {},
   "outputs": [],
   "source": [
    "# Define a callback function that uses the Azure AI Project client\n",
    "# This approach leverages the project client to get Azure OpenAI access\n",
    "def azure_openai_callback(query: str) -> str:\n",
    "    \"\"\"Azure OpenAI callback function using project client.\"\"\"\n",
    "    try:\n",
    "        # Get the Azure OpenAI client from the project\n",
    "        openai_client = project_client.get_openai_client()\n",
    "        \n",
    "        # Create a chat completion request\n",
    "        response = openai_client.chat.completions.create(\n",
    "            model=azure_openai_deployment,\n",
    "            messages=[\n",
    "                {\"role\": \"system\", \"content\": \"You are a helpful assistant.\"},\n",
    "                {\"role\": \"user\", \"content\": query}\n",
    "            ],\n",
    "            max_tokens=150,\n",
    "            temperature=0.7\n",
    "        )\n",
    "        \n",
    "        return response.choices[0].message.content\n",
    "    except Exception as e:\n",
    "        return f\"Error processing request: {str(e)}\"\n",
    "\n",
    "print(\"✓ Azure OpenAI callback function defined successfully\")"
   ]
  },
  {
   "cell_type": "markdown",
   "metadata": {},
   "source": [
    "The callback function uses the project client to get Azure OpenAI access and run the scan."
   ]
  },
  {
   "cell_type": "code",
   "execution_count": null,
   "metadata": {},
   "outputs": [],
   "source": [
    "# Run the red team scan called \"Intermediary-Model-Target-Scan\"\n",
    "result = await red_team.scan(\n",
    "    target=azure_openai_callback,\n",
    "    scan_name=\"Intermediary-Model-Target-Scan\",\n",
    "    attack_strategies=[AttackStrategy.Flip],\n",
    ")"
   ]
  },
  {
   "cell_type": "markdown",
   "metadata": {},
   "source": [
    "## Advanced Example: Using an Azure Open AI Model Endpoint in a Callback Function\n",
    "\n",
    "Using the same Azure Open AI model configuration as above, we now wrap it in a callback function for more flexibility and control on the input and output handling. This will demonstrate how to evaluate an actual AI application. To test your own actual AI application, replace the inside of the callback function with a call to your application. Please note you'll run into HTTP 400 because of which type Error. Please ignore and proceed as it is triggering the model's security filter."
   ]
  },
  {
   "cell_type": "code",
   "execution_count": null,
   "metadata": {},
   "outputs": [],
   "source": [
    "# Define a callback that uses Azure OpenAI API via the project client\n",
    "async def azure_openai_callback(\n",
    "    messages: list,\n",
    "    stream: Optional[bool] = False,  # noqa: ARG001\n",
    "    session_state: Optional[str] = None,  # noqa: ARG001\n",
    "    context: Optional[Dict[str, Any]] = None,  # noqa: ARG001\n",
    ") -> dict[str, list[dict[str, str]]]:\n",
    "    \n",
    "    # Use the project client to get the OpenAI client\n",
    "    with project_client.get_openai_client(api_version=azure_openai_api_version) as client:\n",
    "        \n",
    "        ## Extract the latest message from the conversation history\n",
    "        messages_list = [{\"role\": message.role, \"content\": message.content} for message in messages]\n",
    "        latest_message = messages_list[-1][\"content\"]\n",
    "\n",
    "        try:\n",
    "            # Call the model using the project client's OpenAI client\n",
    "            response = client.chat.completions.create(\n",
    "                model=azure_openai_deployment,\n",
    "                messages=[\n",
    "                    {\"role\": \"user\", \"content\": latest_message},\n",
    "                ],\n",
    "                # max_tokens=500, # If using an o1 base model, comment this line out\n",
    "                max_completion_tokens=500,  # If using an o1 base model, uncomment this line\n",
    "                # temperature=0.7, # If using an o1 base model, comment this line out (temperature param not supported for o1 base models)\n",
    "            )\n",
    "\n",
    "            # Format the response to follow the expected chat protocol format\n",
    "            formatted_response = {\"content\": response.choices[0].message.content, \"role\": \"assistant\"}\n",
    "        except Exception as e:\n",
    "            print(f\"Error calling Azure OpenAI: {e!s}\")\n",
    "            formatted_response = {\"content\": \"I encountered an error and couldn't process your request.\", \"role\": \"assistant\"}\n",
    "    \n",
    "    return {\"messages\": [formatted_response]}"
   ]
  },
  {
   "cell_type": "code",
   "execution_count": null,
   "metadata": {},
   "outputs": [],
   "source": [
    "# Create the RedTeam instance with all of the risk categories with 5 attack objectives generated for each category\n",
    "# Use the PROJECT_CONNECTION_STRING approach\n",
    "model_red_team = RedTeam(\n",
    "    azure_ai_project=project_connection_string,\n",
    "    credential=credential,\n",
    "    risk_categories=[\n",
    "        RiskCategory.Violence,\n",
    "        RiskCategory.HateUnfairness,\n",
    "        RiskCategory.Sexual,\n",
    "        RiskCategory.SelfHarm,\n",
    "    ],\n",
    "    num_objectives=5,\n",
    ")\n",
    "print(\"✓ Model RedTeam instance created successfully\")"
   ]
  },
  {
   "cell_type": "markdown",
   "metadata": {},
   "source": [
    "We will use this instance of `model_red_team` to test different attack strategies in the following section."
   ]
  },
  {
   "cell_type": "markdown",
   "metadata": {},
   "source": [
    "### Testing Different Attack Strategies\n",
    "\n",
    "Now we'll run a more comprehensive evaluation using multiple attack strategies across risk categories. This will give us a better understanding of our model's vulnerabilities.Please note you'll run into HTTP 400 because of which type Error. Please ignore and proceed as it is triggering the model's security filter."
   ]
  },
  {
   "cell_type": "code",
   "execution_count": null,
   "metadata": {},
   "outputs": [],
   "source": [
    "# Run the red team scan with multiple attack strategies\n",
    "advanced_result = await model_red_team.scan(\n",
    "    target=azure_openai_callback,\n",
    "    scan_name=\"Advanced-Callback-Scan\",\n",
    "    attack_strategies=[\n",
    "        AttackStrategy.EASY,  # Group of easy complexity attacks\n",
    "        AttackStrategy.MODERATE,  # Group of moderate complexity attacks\n",
    "        AttackStrategy.CharacterSpace,  # Add character spaces\n",
    "        AttackStrategy.ROT13,  # Use ROT13 encoding\n",
    "        AttackStrategy.UnicodeConfusable,  # Use confusable Unicode characters\n",
    "        AttackStrategy.CharSwap,  # Swap characters in prompts\n",
    "        AttackStrategy.Morse,  # Encode prompts in Morse code\n",
    "        AttackStrategy.Leetspeak,  # Use Leetspeak\n",
    "        AttackStrategy.Url,  # Use URLs in prompts\n",
    "        AttackStrategy.Binary,  # Encode prompts in binary\n",
    "        AttackStrategy.Compose([AttackStrategy.Base64, AttackStrategy.ROT13]),  # Use two strategies in one attack\n",
    "    ],\n",
    "    output_path=\"Advanced-Callback-Scan.json\",\n",
    ")"
   ]
  },
  {
   "cell_type": "markdown",
   "metadata": {},
   "source": [
    "The data and results used in this attack will be saved to the `output_path` specified. The URL printed out at the end of the scorecard will provide a link to where you results are uploaded and logged to your Azure AI Foundry project."
   ]
  },
  {
   "cell_type": "markdown",
   "metadata": {},
   "source": [
    "## Bring your own objectives: Using your own prompts as objectives for RedTeam\n",
    "\n",
    "Below we demonstrate how to use your own prompts as objectives for a `RedTeam` scan. You can see the required format for prompts under `../data/prompts.json`. Note that when bringing your own prompts, the supported `risk-type`s are `violence`, `sexual`, `hate_unfairness`, and `self_harm`. The number of prompts you specify will be the `num_objectives` used in the scan. Please note you'll run into HTTP 400 because of which type Error. Please ignore and proceed as it is triggering the model's security filter."
   ]
  },
  {
   "cell_type": "code",
   "execution_count": null,
   "metadata": {},
   "outputs": [],
   "source": [
    "path_to_prompts = \"data/prompts.json\"\n",
    "\n",
    "# Check if the prompts file exists\n",
    "import os\n",
    "if os.path.exists(path_to_prompts):\n",
    "    print(f\"✓ Found prompts file: {path_to_prompts}\")\n",
    "\n",
    "    # Create the RedTeam specifying the custom attack seed prompts to use as objectives\n",
    "    custom_red_team = RedTeam(\n",
    "        azure_ai_project=project_connection_string,\n",
    "        credential=credential,\n",
    "        custom_attack_seed_prompts=path_to_prompts,  # Path to a file containing custom attack seed prompts\n",
    "    )\n",
    "    print(\"✓ Custom RedTeam instance created successfully\")\n",
    "else:\n",
    "    print(f\"❌ Prompts file not found: {path_to_prompts}\")\n",
    "    print(\"Skipping custom red team creation - you can continue with the other examples\")"
   ]
  },
  {
   "cell_type": "code",
   "execution_count": null,
   "metadata": {},
   "outputs": [],
   "source": [
    "custom_red_team_result = await custom_red_team.scan(\n",
    "    target=azure_openai_callback,\n",
    "    scan_name=\"Custom-Prompt-Scan\",\n",
    "    attack_strategies=[\n",
    "        AttackStrategy.EASY,  # Group of easy complexity attacks\n",
    "        AttackStrategy.MODERATE,  # Group of moderate complexity attacks\n",
    "        AttackStrategy.DIFFICULT,  # Group of difficult complexity attacks\n",
    "    ],\n",
    "    output_path=\"Custom-Prompt-Scan.json\",\n",
    ")"
   ]
  },
  {
   "cell_type": "markdown",
   "metadata": {},
   "source": [
    "## Conclusion\n",
    "\n",
    "In this notebook, we've demonstrated how to use the Azure AI Evaluation SDK's `RedTeam` functionality to assess the safety and resilience of AI systems. We started with a basic fixed-response example and then moved to a more realistic model testing across multiple risk categories and attack strategies.\n",
    "\n",
    "The automated AI red teaming scans provides valuable insights into:\n",
    "\n",
    "1. **Overall Attack Success Rate (ASR)** - The percentage of attacks that successfully elicit harmful content\n",
    "2. **Vulnerability by Risk Category** - Which types of harmful content your model is most vulnerable to\n",
    "3. **Effectiveness of Attack Strategies** - Which attack techniques are most successful against your model\n",
    "4. **Impact of Complexity** - How more sophisticated attacks affect your model's safety guardrails\n",
    "\n",
    "By regularly red-teaming your AI applications, you can identify and address potential vulnerabilities before deploying your models to production environments.\n",
    "\n",
    "### Next Steps\n",
    "\n",
    "1. **Mitigation**: Use these results to strengthen your model's guardrails against identified attack vectors\n",
    "2. **Continuous Testing**: Implement regular red team evaluations as part of your development lifecycle\n",
    "3. **Custom Strategies**: Develop custom attack strategies for your specific use cases and domain\n",
    "4. **Safety Layers**: Consider adding additional safety layers like Azure AI Content Safety to filter harmful requests and responses "
   ]
  }
 ],
 "metadata": {
  "kernelspec": {
   "display_name": ".venv",
   "language": "python",
   "name": "python3"
  },
  "language_info": {
   "codemirror_mode": {
    "name": "ipython",
    "version": 3
   },
   "file_extension": ".py",
   "mimetype": "text/x-python",
   "name": "python",
   "nbconvert_exporter": "python",
   "pygments_lexer": "ipython3",
   "version": "3.13.9"
  }
 },
 "nbformat": 4,
 "nbformat_minor": 2
}
