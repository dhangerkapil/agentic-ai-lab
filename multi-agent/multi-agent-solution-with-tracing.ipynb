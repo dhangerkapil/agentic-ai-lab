{
 "cells": [
  {
   "cell_type": "markdown",
   "id": "a0fdc739",
   "metadata": {},
   "source": [
    "# Multi-Agent Ticket Triage System\n",
    "\n",
    "This notebook demonstrates how to build a **multi-agent system** using Azure AI Agent Service for automated ticket triage. The system uses multiple specialized agents that work together to analyze support tickets and determine:\n",
    "\n",
    "- **Priority Level** (High/Medium/Low)\n",
    "- **Team Assignment** (Frontend/Backend/Infrastructure/Marketing)\n",
    "- **Effort Estimation** (Small/Medium/Large)\n",
    "\n",
    "## Architecture Overview\n",
    "\n",
    "The system consists of:\n",
    "1. **Three Specialist Agents**: Each focused on one aspect of ticket analysis\n",
    "2. **One Orchestrator Agent**: Uses the specialist agents as tools to provide comprehensive triage\n",
    "3. **Connected Agent Tools**: Enable the orchestrator to call specialist agents as needed"
   ]
  },
  {
   "cell_type": "markdown",
   "id": "0030d14a",
   "metadata": {},
   "source": [
    "## 🔐 Authentication Setup\n",
    "\n",
    "Before running the next cell, make sure you're authenticated with Azure CLI. Run this command in your terminal:\n",
    "\n",
    "```bash\n",
    "az login --use-device-code\n",
    "```\n",
    "\n",
    "This will provide you with a device code and URL to authenticate in your browser, which is useful for:\n",
    "- Remote development environments\n",
    "- Systems without a default browser\n",
    "- Corporate environments with strict security policies\n",
    "\n",
    "After successful authentication, you can proceed with the notebook cells below."
   ]
  },
  {
   "cell_type": "markdown",
   "id": "39a36b93",
   "metadata": {},
   "source": [
    "## 📦 Import Required Libraries and Setup Environment\n",
    "\n",
    "This cell imports all the necessary libraries for building our multi-agent system and loads environment variables from the `.env` file. We need:\n",
    "\n",
    "- **Azure AI Agents SDK**: To create and manage multiple AI agents\n",
    "- **Azure Identity**: For authentication with Azure services\n",
    "- **Environment variables**: Project endpoint and model deployment details"
   ]
  },
  {
   "cell_type": "code",
   "execution_count": null,
   "id": "dc0bda3f",
   "metadata": {},
   "outputs": [],
   "source": [
    "import os\n",
    "from pathlib import Path\n",
    "from azure.ai.projects import AIProjectClient\n",
    "from azure.ai.agents.models import ConnectedAgentTool, MessageRole, ListSortOrder, ToolSet, FunctionTool\n",
    "from azure.identity import InteractiveBrowserCredential\n",
    "from dotenv import load_dotenv\n",
    "\n",
    "# Load environment variables from parent .env\n",
    "notebook_path = Path().absolute()\n",
    "parent_dir = notebook_path.parent\n",
    "load_dotenv(parent_dir.parent / '.env')\n",
    "\n",
    "# Get tenant ID and project connection string (not endpoint)\n",
    "tenant_id = os.environ.get(\"TENANT_ID\")\n",
    "project_endpoint = os.environ.get(\"AI_FOUNDRY_PROJECT_ENDPOINT\")\n",
    "model_deployment = os.environ.get(\"MODEL_DEPLOYMENT_NAME\")\n",
    "\n",
    "print(f\"🔑 Using Tenant ID: {tenant_id}\")\n",
    "print(f\"🔗 Project Endpoint: {project_endpoint}\")\n"
   ]
  },
  {
   "cell_type": "markdown",
   "id": "5d140eca",
   "metadata": {},
   "source": [
    "## 🎯 Define Specialist Agent Instructions\n",
    "\n",
    "Now we'll define the instructions for each of our three specialist agents. Each agent has a specific role in the ticket triage process.\n",
    "\n",
    "### Priority Assessment Agent\n",
    "\n",
    "This agent analyzes tickets to determine their urgency level. It categorizes tickets as High, Medium, or Low priority based on their impact on users and business operations."
   ]
  },
  {
   "cell_type": "code",
   "execution_count": null,
   "id": "f1459cef",
   "metadata": {},
   "outputs": [],
   "source": [
    "# Priority agent definition\n",
    "priority_agent_name = \"priority_agent\"\n",
    "priority_agent_instructions = \"\"\"\n",
    "Assess how urgent a ticket is based on its description.\n",
    "\n",
    "Respond with one of the following levels:\n",
    "- High: User-facing or blocking issues\n",
    "- Medium: Time-sensitive but not breaking anything\n",
    "- Low: Cosmetic or non-urgent tasks\n",
    "\n",
    "Only output the urgency level and a very brief explanation.\n",
    "\"\"\""
   ]
  },
  {
   "cell_type": "markdown",
   "id": "3366009d",
   "metadata": {},
   "source": [
    "### Team Assignment Agent\n",
    "\n",
    "This agent determines which team should handle each ticket based on the technical domain and expertise required. It assigns tickets to Frontend, Backend, Infrastructure, or Marketing teams."
   ]
  },
  {
   "cell_type": "code",
   "execution_count": null,
   "id": "304909cd",
   "metadata": {},
   "outputs": [],
   "source": [
    "# Team agent definition\n",
    "team_agent_name = \"team_agent\"\n",
    "team_agent_instructions = \"\"\"\n",
    "Decide which team should own each ticket.\n",
    "\n",
    "Choose from the following teams:\n",
    "- Frontend\n",
    "- Backend\n",
    "- Infrastructure\n",
    "- Marketing\n",
    "\n",
    "Base your answer on the content of the ticket. Respond with the team name and a very brief explanation.\n",
    "\"\"\""
   ]
  },
  {
   "cell_type": "markdown",
   "id": "e0075fca",
   "metadata": {},
   "source": [
    "### Effort Estimation Agent\n",
    "\n",
    "This agent estimates the amount of work required to resolve each ticket. It categorizes the effort as Small (1 day), Medium (2-3 days), or Large (multi-day/cross-team effort)."
   ]
  },
  {
   "cell_type": "code",
   "execution_count": null,
   "id": "2fcd68a6",
   "metadata": {},
   "outputs": [],
   "source": [
    "# Effort agent definition\n",
    "effort_agent_name = \"effort_agent\"\n",
    "effort_agent_instructions = \"\"\"\n",
    "Estimate how much work each ticket will require.\n",
    "\n",
    "Use the following scale:\n",
    "- Small: Can be completed in a day\n",
    "- Medium: 2-3 days of work\n",
    "- Large: Multi-day or cross-team effort\n",
    "\n",
    "Base your estimate on the complexity implied by the ticket. Respond with the effort level and a brief justification.\n",
    "\"\"\""
   ]
  },
  {
   "cell_type": "markdown",
   "id": "69ecee7f",
   "metadata": {},
   "source": [
    "### Orchestrator Agent Instructions\n",
    "\n",
    "The main orchestrator agent coordinates all three specialist agents. It receives the ticket and uses the specialist agents as tools to provide a comprehensive triage analysis."
   ]
  },
  {
   "cell_type": "code",
   "execution_count": null,
   "id": "fb1e5233",
   "metadata": {},
   "outputs": [],
   "source": [
    "# Instructions for the primary agent\n",
    "triage_agent_instructions = \"\"\"\n",
    "Triage the given ticket. Use the connected tools to determine the ticket's priority, \n",
    "which team it should be assigned to, and how much effort it may take.\n",
    "\"\"\""
   ]
  },
  {
   "cell_type": "markdown",
   "id": "5dfd1d41",
   "metadata": {},
   "source": [
    "## 🔗 Connect to Azure AI Agent Service\n",
    "\n",
    "This cell establishes a connection to the Azure AI Agent Service using our project endpoint and credentials. This client will be used to create and manage all our agents."
   ]
  },
  {
   "cell_type": "code",
   "execution_count": null,
   "id": "d190154d",
   "metadata": {},
   "outputs": [],
   "source": [
    "# Connect to Azure AI Project using InteractiveBrowserCredential for consistency\n",
    "credential = InteractiveBrowserCredential(tenant_id=tenant_id)\n",
    "print(\"🌐 Launching interactive browser authentication (multi-agent notebook)...\")\n",
    "project_client = AIProjectClient(\n",
    "    endpoint=project_endpoint,\n",
    "    credential=credential\n",
    ")\n",
    "print(\"✅ AIProjectClient initialized with InteractiveBrowserCredential\")"
   ]
  },
  {
   "cell_type": "markdown",
   "id": "a38854af",
   "metadata": {},
   "source": [
    "## 🤖 Create Multi-Agent System\n",
    "\n",
    "This cell creates all four agents in our system:\n",
    "\n",
    "1. **Three Specialist Agents**: Priority, Team, and Effort assessment agents\n",
    "2. **Connected Agent Tools**: Wrapper tools that allow the orchestrator to call specialists\n",
    "3. **Main Orchestrator Agent**: Uses the specialist agents as tools for comprehensive ticket triage\n",
    "\n",
    "Each specialist agent is created with its specific instructions and then wrapped in a `ConnectedAgentTool` so the orchestrator can use them."
   ]
  },
  {
   "cell_type": "code",
   "execution_count": null,
   "id": "f09922fb",
   "metadata": {},
   "outputs": [],
   "source": [
    "# FIXED: Create agents without context manager to keep client active\n",
    "print(\"Creating agents...\")\n",
    "\n",
    "# Create the priority agent on the Azure AI agent service\n",
    "priority_agent = project_client.agents.create_agent(\n",
    "    model=model_deployment,\n",
    "    name=priority_agent_name,\n",
    "    instructions=priority_agent_instructions\n",
    ")\n",
    "print(\"✅ Priority agent created\")\n",
    "\n",
    "# Create a connected agent tool for the priority agent\n",
    "priority_agent_tool = ConnectedAgentTool(\n",
    "    id=priority_agent.id, \n",
    "    name=priority_agent_name, \n",
    "    description=\"Assess the priority of a ticket\"\n",
    ")\n",
    "\n",
    "# Create the team agent and connected tool\n",
    "team_agent = project_client.agents.create_agent(\n",
    "    model=model_deployment,\n",
    "    name=team_agent_name,\n",
    "    instructions=team_agent_instructions\n",
    ")\n",
    "print(\"✅ Team agent created\")\n",
    "\n",
    "team_agent_tool = ConnectedAgentTool(\n",
    "    id=team_agent.id, \n",
    "    name=team_agent_name, \n",
    "    description=\"Determines which team should take the ticket\"\n",
    ")\n",
    "\n",
    "# Create the effort agent and connected tool\n",
    "effort_agent = project_client.agents.create_agent(\n",
    "    model=model_deployment,\n",
    "    name=effort_agent_name,\n",
    "    instructions=effort_agent_instructions\n",
    ")\n",
    "print(\"✅ Effort agent created\")\n",
    "\n",
    "effort_agent_tool = ConnectedAgentTool(\n",
    "    id=effort_agent.id, \n",
    "    name=effort_agent_name, \n",
    "    description=\"Determines the effort required to complete the ticket\"\n",
    ")\n",
    "\n",
    "# Create a main agent with the Connected Agent tools\n",
    "agent = project_client.agents.create_agent(\n",
    "    model=model_deployment,\n",
    "    name=\"triage-agent\",\n",
    "    instructions=triage_agent_instructions,\n",
    "    tools=[\n",
    "        priority_agent_tool.definitions[0],\n",
    "        team_agent_tool.definitions[0],\n",
    "        effort_agent_tool.definitions[0]\n",
    "    ]\n",
    ")\n",
    "print(\"✅ Main triage agent created with connected tools\")\n",
    "print(\"🎯 All agents are ready for use!\")"
   ]
  },
  {
   "cell_type": "markdown",
   "id": "40271735",
   "metadata": {},
   "source": [
    "## 💬 Create Conversation Thread\n",
    "\n",
    "This cell creates a conversation thread that will contain our interaction with the multi-agent system. The thread maintains the context of our conversation and allows for back-and-forth communication."
   ]
  },
  {
   "cell_type": "code",
   "execution_count": null,
   "id": "d424d529",
   "metadata": {},
   "outputs": [],
   "source": [
    "# Create thread for the chat session\n",
    "print(\"Creating agent thread.\")\n",
    "thread = project_client.agents.threads.create()"
   ]
  },
  {
   "cell_type": "markdown",
   "id": "2151bbce",
   "metadata": {},
   "source": [
    "## 🎯 Execute Multi-Agent Ticket Triage\n",
    "\n",
    "Now we'll run our multi-agent ticket triage system! This cell will:\n",
    "\n",
    "1. **Send a ticket**: Submit a sample support ticket to the orchestrator agent\n",
    "2. **Agent coordination**: The orchestrator will call each specialist agent for their assessment\n",
    "3. **Display results**: Show the complete conversation flow and final triage analysis\n",
    "\n",
    "Watch as the orchestrator agent intelligently uses the three specialist agents to provide a comprehensive ticket analysis including priority, team assignment, and effort estimation."
   ]
  },
  {
   "cell_type": "code",
   "execution_count": null,
   "id": "690692bf",
   "metadata": {},
   "outputs": [],
   "source": [
    "# Create the ticket prompt\n",
    "prompt = \"Users can't reset their password from the mobile app.\"\n",
    "\n",
    "# Send a prompt to the agent\n",
    "message = project_client.agents.messages.create(\n",
    "    thread_id=thread.id,\n",
    "    role=MessageRole.USER,\n",
    "    content=prompt,\n",
    ")\n",
    "print(f\"📝 Created user message: {prompt}\")\n",
    "\n",
    "# Create and process Agent run in thread with tools\n",
    "print(\"🔄 Processing multi-agent thread. Please wait...\")\n",
    "run = project_client.agents.runs.create_and_process(thread_id=thread.id, agent_id=agent.id)\n",
    "\n",
    "if run.status == \"failed\":\n",
    "    print(f\"❌ Run failed: {run.last_error}\")\n",
    "else:\n",
    "    print(\"✅ Multi-agent processing completed successfully\")\n",
    "\n",
    "# Fetch and analyze all messages\n",
    "messages = project_client.agents.messages.list(thread_id=thread.id, order=ListSortOrder.ASCENDING)\n",
    "\n",
    "print(\"\\n📊 Multi-Agent Conversation Flow:\")\n",
    "print(\"=\" * 50)\n",
    "\n",
    "for message in messages:\n",
    "    if message.text_messages:\n",
    "        last_msg = message.text_messages[-1]\n",
    "        print(f\"🤖 {message.role.upper()}:\")\n",
    "        print(f\"{last_msg.text.value}\\n\")\n",
    "\n",
    "print(\"=\" * 50)\n",
    "print(\"🎯 Multi-agent ticket triage completed!\")"
   ]
  },
  {
   "cell_type": "markdown",
   "id": "f325d628",
   "metadata": {},
   "source": [
    "## 🧹 Clean Up Resources\n",
    "\n",
    "This cell deletes all the agents we created to avoid leaving resources running in Azure. It's important to clean up agents after use to prevent unnecessary costs."
   ]
  },
  {
   "cell_type": "code",
   "execution_count": null,
   "id": "234c6ae9",
   "metadata": {},
   "outputs": [],
   "source": [
    "# Delete the agent when done\n",
    "print(\"Cleaning up agents:\")\n",
    "##project_client.agents.delete_agent(agent.id)\n",
    "print(\"Deleted triage agent.\")\n",
    "\n",
    "# Delete the connected agents when done\n",
    "##project_client.agents.delete_agent(priority_agent.id)\n",
    "print(\"Deleted priority agent.\")\n",
    "##project_client.agents.delete_agent(team_agent.id)\n",
    "print(\"Deleted team agent.\")\n",
    "##project_client.agents.delete_agent(effort_agent.id)\n",
    "print(\"Deleted effort agent.\")"
   ]
  }
 ],
 "metadata": {
  "kernelspec": {
   "display_name": "venv",
   "language": "python",
   "name": "python3"
  },
  "language_info": {
   "codemirror_mode": {
    "name": "ipython",
    "version": 3
   },
   "file_extension": ".py",
   "mimetype": "text/x-python",
   "name": "python",
   "nbconvert_exporter": "python",
   "pygments_lexer": "ipython3",
   "version": "3.12.10"
  }
 },
 "nbformat": 4,
 "nbformat_minor": 5
}
