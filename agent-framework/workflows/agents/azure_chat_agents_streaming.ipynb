{
 "cells": [
  {
   "cell_type": "markdown",
   "id": "198e8f13",
   "metadata": {},
   "source": [
    "# Azure OpenAI Chat Agents with Streaming\n",
    "\n",
    "## Overview\n",
    "\n",
    "This notebook demonstrates streaming workflows using **Azure OpenAI Chat Agents**. Similar to Azure AI Agents but using the Azure Open AI Service directly.\n",
    "\n",
    "### Pipeline:\n",
    "```\n",
    "Writer Agent → Reviewer Agent (streaming)\n",
    "```\n",
    "\n",
    "### Key Concepts:\n",
    "- Azure OpenAI Service integration\n",
    "- Real-time token streaming via `AgentRunUpdateEvent`\n",
    "- `add_agent()` with `output_response=True`\n",
    "- Adaptive workflow modes (streaming vs non-streaming)\n",
    "\n",
    "### Prerequisites:\n",
    "- ✅ Azure OpenAI Service configured\n",
    "- ✅ Environment variables: `AZURE_OPENAI_ENDPOINT`, `AZURE_OPENAI_API_KEY`, `AZURE_OPENAI_CHAT_DEPLOYMENT_NAME`\n",
    "- ✅ Azure CLI authentication (`az login`)"
   ]
  },
  {
   "cell_type": "code",
   "execution_count": null,
   "id": "da4cc436",
   "metadata": {},
   "outputs": [],
   "source": [
    "import asyncio\n",
    "\n",
    "from agent_framework import AgentRunUpdateEvent, WorkflowBuilder, WorkflowOutputEvent\n",
    "from agent_framework.azure import AzureOpenAIChatClient\n",
    "from azure.identity import AzureCliCredential\n",
    "import os\n",
    "from dotenv import load_dotenv\n",
    "\n",
    "# Load environment variables from .env file\n",
    "load_dotenv('../../.env')\n"
   ]
  },
  {
   "cell_type": "code",
   "execution_count": null,
   "id": "19268155",
   "metadata": {},
   "outputs": [],
   "source": [
    "# Create Azure OpenAI chat client\n",
    "endpoint = os.getenv(\"AZURE_OPENAI_ENDPOINT\")\n",
    "deployment_name = os.getenv(\"AZURE_OPENAI_CHAT_DEPLOYMENT_NAME\")\n",
    "chat_client = AzureOpenAIChatClient(\n",
    "    deployment_name=deployment_name,\n",
    "    endpoint=endpoint,\n",
    "    credential=AzureCliCredential()\n",
    ")\n",
    "print(\"✅ Azure OpenAI Chat Client created\")"
   ]
  },
  {
   "cell_type": "code",
   "execution_count": null,
   "id": "d84d37f5",
   "metadata": {},
   "outputs": [],
   "source": [
    "# Create Writer Agent\n",
    "writer_agent = chat_client.create_agent(\n",
    "    instructions=(\n",
    "        \"You are an excellent content writer. You create new content and edit contents based on the feedback.\"\n",
    "    ),\n",
    "    name=\"writer_agent\",\n",
    ")\n",
    "print(\"✅ Writer Agent created\")"
   ]
  },
  {
   "cell_type": "code",
   "execution_count": null,
   "id": "73d47b35",
   "metadata": {},
   "outputs": [],
   "source": [
    "# Create Reviewer Agent\n",
    "reviewer_agent = chat_client.create_agent(\n",
    "    instructions=(\n",
    "        \"You are an excellent content reviewer.\"\n",
    "        \"Provide actionable feedback to the writer about the provided content.\"\n",
    "        \"Provide the feedback in the most concise manner possible.\"\n",
    "    ),\n",
    "    name=\"reviewer_agent\",\n",
    ")\n",
    "print(\"✅ Reviewer Agent created\")"
   ]
  },
  {
   "cell_type": "code",
   "execution_count": null,
   "id": "57580a77",
   "metadata": {},
   "outputs": [],
   "source": [
    "# Build workflow\n",
    "workflow = (\n",
    "    WorkflowBuilder()\n",
    "    .add_agent(writer_agent, id=\"Writer\")\n",
    "    .add_agent(reviewer_agent, id=\"Reviewer\", output_response=True)\n",
    "    .set_start_executor(writer_agent)\n",
    "    .add_edge(writer_agent, reviewer_agent)\n",
    "    .build()\n",
    ")\n",
    "print(\"✅ Workflow built: Writer → Reviewer\")"
   ]
  },
  {
   "cell_type": "code",
   "execution_count": null,
   "id": "97a1dad4",
   "metadata": {},
   "outputs": [],
   "source": [
    "# Run with streaming\n",
    "user_message = \"Create a slogan for a new electric SUV that is affordable and fun to drive.\"\n",
    "print(f\"\\n📝 User: {user_message}\\n\" + \"=\" * 70 + \"\\n\")\n",
    "\n",
    "last_executor_id: str | None = None\n",
    "\n",
    "events = workflow.run_stream(user_message)\n",
    "async for event in events:\n",
    "    if isinstance(event, AgentRunUpdateEvent):\n",
    "        eid = event.executor_id\n",
    "        if eid != last_executor_id:\n",
    "            if last_executor_id is not None:\n",
    "                print()\n",
    "            print(f\"\\n🤖 {eid}:\", end=\" \", flush=True)\n",
    "            last_executor_id = eid\n",
    "        print(event.data, end=\"\", flush=True)\n",
    "    elif isinstance(event, WorkflowOutputEvent):\n",
    "        print(\"\\n\\n\" + \"=\" * 70)\n",
    "        print(\"\\n📤 Final Output:\\n\")\n",
    "        print(event.data)\n",
    "\n",
    "print(\"\\n\" + \"=\" * 70 + \"\\n✅ Complete!\")"
   ]
  },
  {
   "cell_type": "markdown",
   "id": "022105d6",
   "metadata": {},
   "source": [
    "## Key Differences: Azure OpenAI vs Azure AI Agents\n",
    "\n",
    "| Feature | Azure OpenAI | Azure AI Agents |\n",
    "|---------|--------------|----------------|\n",
    "| **Service** | Azure OpenAI Service | Azure AI Agent Service |\n",
    "| **Client** | `AzureOpenAIChatClient` | `AzureAIAgentClient` |\n",
    "| **Setup** | Direct instantiation | Async context managers |\n",
    "| **Auth** | API key or credential | Credential required |\n",
    "| **Models** | OpenAI models | Various AI models |\n",
    "\n",
    "Both support streaming and integrate seamlessly with workflows!"
   ]
  }
 ],
 "metadata": {
  "kernelspec": {
   "display_name": ".venv",
   "language": "python",
   "name": "python3"
  },
  "language_info": {
   "codemirror_mode": {
    "name": "ipython",
    "version": 3
   },
   "file_extension": ".py",
   "mimetype": "text/x-python",
   "name": "python",
   "nbconvert_exporter": "python",
   "pygments_lexer": "ipython3",
   "version": "3.12.10"
  }
 },
 "nbformat": 4,
 "nbformat_minor": 5
}
