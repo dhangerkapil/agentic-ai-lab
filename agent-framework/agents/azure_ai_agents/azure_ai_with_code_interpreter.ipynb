{
 "cells": [
  {
   "cell_type": "markdown",
   "id": "14e20eb5",
   "metadata": {},
   "source": [
    "# Azure AI Agent with Code Interpreter Example\n",
    "\n",
    "This notebook demonstrates using HostedCodeInterpreterTool with Azure AI Agents for Python code execution and mathematical problem solving.\n",
    "\n",
    "## Features Covered:\n",
    "- Setting up a code interpreter tool for agents\n",
    "- Executing Python code through the agent\n",
    "- Mathematical problem solving\n",
    "- Accessing code interpreter inputs and outputs\n",
    "- Working with streaming responses"
   ]
  },
  {
   "cell_type": "markdown",
   "id": "b2589729",
   "metadata": {},
   "source": [
    "## Prerequisites\n",
    "\n",
    "Before running this notebook, ensure you have:\n",
    "\n",
    "1. **Azure AI Project**: Access to an Azure AI Foundry project with deployed models\n",
    "2. **Authentication**: Azure CLI installed and authenticated (`az login --use-device-code`)\n",
    "3. **Environment Variables**: Set up your `.env` file with connection details\n",
    "4. **Dependencies**: Required agent-framework packages installed\n",
    "\n",
    "If you need to use a different tenant, specify the tenant ID:\n",
    "```bash\n",
    "az login --tenant <tenant-id>\n",
    "```"
   ]
  },
  {
   "cell_type": "markdown",
   "id": "d33e113b",
   "metadata": {},
   "source": [
    "## Import Libraries\n",
    "\n",
    "Import the required libraries for Azure AI agent functionality."
   ]
  },
  {
   "cell_type": "code",
   "execution_count": null,
   "id": "78173daf",
   "metadata": {},
   "outputs": [],
   "source": [
    "import os\n",
    "from pathlib import Path\n",
    "from agent_framework import AgentRunResponse, ChatResponseUpdate, HostedCodeInterpreterTool\n",
    "from agent_framework.azure import AzureAIAgentClient\n",
    "from azure.ai.agents.models import (\n",
    "    RunStepDeltaCodeInterpreterDetailItemObject,\n",
    ")\n",
    "from azure.identity import InteractiveBrowserCredential, AzureCliCredential"
   ]
  },
  {
   "cell_type": "markdown",
   "id": "3cef56a1",
   "metadata": {},
   "source": [
    "## Initial Setup\n",
    "\n",
    "Initialize the Azure AI project client and set up authentication."
   ]
  },
  {
   "cell_type": "code",
   "execution_count": null,
   "id": "c87b0f44",
   "metadata": {},
   "outputs": [],
   "source": [
    "from pathlib import Path  # For working with file paths\n",
    "import os  # For environment variables\n",
    "import time  # For sleep function\n",
    "from dotenv import load_dotenv  # For loading environment variables from .env file\n",
    "from azure.identity import InteractiveBrowserCredential, AzureCliCredential  # For Azure authentication\n",
    "from azure.ai.projects import AIProjectClient\n",
    "\n",
    "# Get the path to the .env file which is in the parent directory\n",
    "notebook_path = Path().absolute()  # Get absolute path of current notebook\n",
    "parent_dir = notebook_path.parent  # Get parent directory\n",
    "load_dotenv('../../../.env')  # Load environment variables from .env file\n",
    "\n",
    "# Get connection string and tenant ID for authentication\n",
    "conn_string = os.environ.get(\"PROJECT_CONNECTION_STRING\")\n",
    "tenant_id = os.environ.get(\"TENANT_ID\")\n",
    "\n",
    "print(f\"🔑 Using Tenant ID: {tenant_id}\")\n",
    "print(f\"🔗 Using Connection String: {conn_string[:50]}...\" if conn_string else \"❌ No connection string found\")\n",
    "\n",
    "# Initialize the AI Project Client using PROJECT_CONNECTION_STRING\n",
    "try:\n",
    "    print(\"🌐 Using browser-based authentication...\")\n",
    "    \n",
    "    # Use InteractiveBrowserCredential with fallback to AzureCliCredential\n",
    "    credential = InteractiveBrowserCredential(tenant_id=tenant_id)\n",
    "    \n",
    "    # Create the project client using the same pattern as other working notebooks\n",
    "    # We'll use the conn_string directly in the AzureAIAgentClient\n",
    "    print(\"✅ Authentication setup completed\")\n",
    "except Exception as e:\n",
    "    # Print error message if client initialization fails\n",
    "    print(f\"❌ Error in authentication setup: {str(e)}\")\n",
    "    print(\"💡 Please complete the browser authentication prompt that should appear\")"
   ]
  },
  {
   "cell_type": "markdown",
   "id": "555e0be0",
   "metadata": {},
   "source": [
    "## Helper Function for Code Interpreter Data\n",
    "\n",
    "This helper function allows us to access and display the actual code that was executed by the code interpreter:"
   ]
  },
  {
   "cell_type": "code",
   "execution_count": null,
   "id": "afc7a1d3",
   "metadata": {},
   "outputs": [],
   "source": [
    "def print_code_interpreter_inputs(response) -> None:\n",
    "    \"\"\"Helper method to access code interpreter data.\"\"\"\n",
    "    \n",
    "    print(\"\\nCode Interpreter Inputs during the run:\")\n",
    "    \n",
    "    # Handle different response types\n",
    "    if hasattr(response, 'raw_representation') and response.raw_representation is not None:\n",
    "        for chunk in response.raw_representation:\n",
    "            if isinstance(chunk, ChatResponseUpdate) and isinstance(\n",
    "                chunk.raw_representation, RunStepDeltaCodeInterpreterDetailItemObject\n",
    "            ):\n",
    "                print(chunk.raw_representation.input, end=\"\")\n",
    "    else:\n",
    "        print(\"No code interpreter inputs found in this response.\")\n",
    "    print(\"\\n\")"
   ]
  },
  {
   "cell_type": "markdown",
   "id": "78958a39",
   "metadata": {},
   "source": [
    "## Create and Run the Code Interpreter Agent\n",
    "\n",
    "Now let's create an agent that can write and execute Python code to solve problems:"
   ]
  },
  {
   "cell_type": "code",
   "execution_count": null,
   "id": "dfa3411c",
   "metadata": {},
   "outputs": [],
   "source": [
    "async def main() -> None:\n",
    "    \"\"\"Example showing how to use the HostedCodeInterpreterTool with Azure AI.\"\"\"\n",
    "    print(\"=== Azure AI Agent with Code Interpreter Example ===\")\n",
    "\n",
    "    # Use the authentication pattern that works with PROJECT_CONNECTION_STRING\n",
    "    credential = InteractiveBrowserCredential(tenant_id=tenant_id)\n",
    "    \n",
    "    async with AzureAIAgentClient(\n",
    "        project_endpoint=conn_string,\n",
    "        async_credential=credential,\n",
    "        model_deployment_name=\"gpt-4o\"\n",
    "    ) as chat_client:\n",
    "        agent = chat_client.create_agent(\n",
    "            name=\"CodingAgent\",\n",
    "            instructions=(\n",
    "                \"You are a helpful assistant that can write and execute Python code to solve problems.\"\n",
    "            ),\n",
    "            tools=HostedCodeInterpreterTool(),\n",
    "        )\n",
    "        query = \"Generate the factorial of 100 using python code, show the code and execute it.\"\n",
    "        print(f\"User: {query}\")\n",
    "        response = await agent.run(query)\n",
    "        print(f\"Agent: {response}\")\n",
    "        # To review the code interpreter outputs, you can access\n",
    "        # them from the response raw_representations, just uncomment the next line:\n",
    "        # print_code_interpreter_inputs(response)"
   ]
  },
  {
   "cell_type": "markdown",
   "id": "2cf29a2a",
   "metadata": {},
   "source": [
    "## Execute the Example\n",
    "\n",
    "Run the main function to see the code interpreter in action:"
   ]
  },
  {
   "cell_type": "code",
   "execution_count": null,
   "id": "533a9d31",
   "metadata": {},
   "outputs": [],
   "source": [
    "# Run the main function\n",
    "await main()"
   ]
  },
  {
   "cell_type": "markdown",
   "id": "da02bf8c",
   "metadata": {},
   "source": [
    "## View Code Interpreter Inputs\n",
    "\n",
    "Let's create another example that shows the actual code executed by the interpreter:"
   ]
  },
  {
   "cell_type": "code",
   "execution_count": null,
   "id": "b0e1e7c0",
   "metadata": {},
   "outputs": [],
   "source": [
    "async def detailed_example() -> None:\n",
    "    \"\"\"Example that shows code interpreter functionality.\"\"\"\n",
    "    print(\"=== Detailed Code Interpreter Example ===\")\n",
    "\n",
    "    credential = InteractiveBrowserCredential(tenant_id=tenant_id)\n",
    "    \n",
    "    async with AzureAIAgentClient(\n",
    "        project_endpoint=conn_string,\n",
    "        async_credential=credential,\n",
    "        model_deployment_name=\"gpt-4o\"\n",
    "    ) as chat_client:\n",
    "        agent = chat_client.create_agent(\n",
    "            name=\"DetailedCodingAgent\",\n",
    "            instructions=(\n",
    "                \"You are a helpful assistant that can write and execute Python code to solve problems. \"\n",
    "                \"Always show your code and explain your approach.\"\n",
    "            ),\n",
    "            tools=HostedCodeInterpreterTool(),\n",
    "        )\n",
    "        \n",
    "        # Use a clear mathematical query\n",
    "        query = \"Calculate the sum of squares of the first 10 numbers using Python code. Show the calculation step by step.\"\n",
    "        print(f\"User: {query}\")\n",
    "        \n",
    "        try:\n",
    "            response = await agent.run(query)\n",
    "            print(f\"Agent: {response}\")\n",
    "            print(\"✅ Code interpreter executed successfully!\")\n",
    "            \n",
    "        except Exception as e:\n",
    "            print(f\"❌ Error occurred: {str(e)}\")\n",
    "            print(\"💡 This might be due to network connectivity issues. Try running again.\")\n",
    "\n",
    "# Run the detailed example\n",
    "await detailed_example()"
   ]
  },
  {
   "cell_type": "markdown",
   "id": "82cc9343",
   "metadata": {},
   "source": [
    "## Try More Complex Examples\n",
    "\n",
    "Let's test the agent with more complex programming tasks:"
   ]
  },
  {
   "cell_type": "code",
   "execution_count": null,
   "id": "cc7cf830",
   "metadata": {},
   "outputs": [],
   "source": [
    "async def complex_examples():\n",
    "    \"\"\"Test the agent with more complex programming tasks.\"\"\"\n",
    "    \n",
    "    credential = InteractiveBrowserCredential(tenant_id=tenant_id)\n",
    "    \n",
    "    async with AzureAIAgentClient(\n",
    "        project_endpoint=conn_string,\n",
    "        async_credential=credential,\n",
    "        model_deployment_name=\"gpt-4o\"\n",
    "    ) as chat_client:\n",
    "        agent = chat_client.create_agent(\n",
    "            name=\"AdvancedCodingAgent\",\n",
    "            instructions=(\n",
    "                \"You are an expert Python programmer. Write clean, efficient code and explain your solutions. \"\n",
    "                \"Always show the Python code you execute.\"\n",
    "            ),\n",
    "            tools=HostedCodeInterpreterTool(),\n",
    "        )\n",
    "        \n",
    "        # Use simpler queries to avoid network issues\n",
    "        queries = [\n",
    "            \"Calculate the first 10 Fibonacci numbers using Python code\",\n",
    "            \"Create a simple statistical analysis of the numbers [1, 2, 3, 4, 5, 6, 7, 8, 9, 10]\",\n",
    "            \"Solve the quadratic equation x² - 5x + 6 = 0 using Python\"\n",
    "        ]\n",
    "        \n",
    "        for i, query in enumerate(queries, 1):\n",
    "            print(f\"\\n--- Example {i}: {query} ---\")\n",
    "            try:\n",
    "                response = await agent.run(query)\n",
    "                print(f\"Agent: {response}\")\n",
    "                print(\"✅ Example completed successfully!\")\n",
    "            except Exception as e:\n",
    "                print(f\"❌ Error in example {i}: {str(e)}\")\n",
    "                print(\"💡 Continuing with next example...\")\n",
    "            print(\"-\" * 80)\n",
    "\n",
    "# Run complex examples\n",
    "await complex_examples()"
   ]
  },
  {
   "cell_type": "markdown",
   "id": "aba8ba00",
   "metadata": {},
   "source": [
    "## Key Takeaways\n",
    "\n",
    "1. **Code Interpreter Tool**: The `HostedCodeInterpreterTool` allows agents to execute Python code in a secure environment\n",
    "2. **Mathematical Computation**: Perfect for complex calculations like factorials, statistics, and mathematical operations\n",
    "3. **Data Analysis**: Can perform data analysis tasks including generating plots and statistics\n",
    "4. **Code Visibility**: You can access the actual code executed through `print_code_interpreter_inputs()`\n",
    "5. **Streaming Support**: Works with both streaming and non-streaming responses\n",
    "6. **Security**: Code execution happens in a secure, isolated environment\n",
    "7. **Versatility**: Can handle various programming tasks from simple calculations to complex algorithms\n",
    "\n",
    "## Best Practices\n",
    "\n",
    "1. **Clear Instructions**: Provide clear instructions about what kind of code execution you need\n",
    "2. **Error Handling**: The agent will handle code errors gracefully and suggest fixes\n",
    "3. **Resource Management**: Use async context managers for proper cleanup\n",
    "4. **Code Review**: Always review the executed code for understanding and validation\n",
    "5. **Performance**: Be mindful of computational complexity for large-scale operations\n",
    "\n",
    "## Use Cases\n",
    "\n",
    "- Mathematical problem solving\n",
    "- Data analysis and visualization\n",
    "- Algorithm implementation and testing\n",
    "- Educational coding assistance\n",
    "- Prototype development\n",
    "- Statistical computations"
   ]
  },
  {
   "cell_type": "code",
   "execution_count": null,
   "id": "01899f5b",
   "metadata": {},
   "outputs": [],
   "source": [
    "# Let's test with a simpler example\n",
    "async def simple_test():\n",
    "    \"\"\"Simple test to verify the code interpreter is working.\"\"\"\n",
    "    print(\"=== Simple Code Interpreter Test ===\")\n",
    "    \n",
    "    credential = InteractiveBrowserCredential(tenant_id=tenant_id)\n",
    "    \n",
    "    async with AzureAIAgentClient(\n",
    "        project_endpoint=conn_string,\n",
    "        async_credential=credential,\n",
    "        model_deployment_name=\"gpt-4o\"\n",
    "    ) as chat_client:\n",
    "        agent = chat_client.create_agent(\n",
    "            name=\"SimpleTestAgent\",\n",
    "            instructions=\"You are a helpful assistant that can execute Python code.\",\n",
    "            tools=HostedCodeInterpreterTool(),\n",
    "        )\n",
    "        \n",
    "        query = \"Calculate 15 * 25 and print the result\"\n",
    "        print(f\"User: {query}\")\n",
    "        response = await agent.run(query)\n",
    "        print(f\"Agent: {response}\")\n",
    "\n",
    "# Run simple test\n",
    "await simple_test()"
   ]
  }
 ],
 "metadata": {
  "kernelspec": {
   "display_name": ".venv",
   "language": "python",
   "name": "python3"
  },
  "language_info": {
   "codemirror_mode": {
    "name": "ipython",
    "version": 3
   },
   "file_extension": ".py",
   "mimetype": "text/x-python",
   "name": "python",
   "nbconvert_exporter": "python",
   "pygments_lexer": "ipython3",
   "version": "3.13.9"
  }
 },
 "nbformat": 4,
 "nbformat_minor": 5
}
