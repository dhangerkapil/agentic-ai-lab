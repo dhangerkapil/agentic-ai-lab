{
 "cells": [
  {
   "cell_type": "markdown",
   "id": "bd94bdf4",
   "metadata": {},
   "source": [
    "# Azure AI Agent with Existing Agent Example\n",
    "\n",
    "This notebook demonstrates working with pre-existing Azure AI Agents by providing agent IDs, showing agent reuse patterns for production scenarios.\n",
    "\n",
    "## Features Covered:\n",
    "- Creating and managing persistent Azure AI agents\n",
    "- Working with existing agent IDs\n",
    "- Agent lifecycle management (create, use, delete)\n",
    "- Production patterns for agent reuse\n",
    "- Manual cleanup of agents"
   ]
  },
  {
   "cell_type": "markdown",
   "id": "d6c5d93b",
   "metadata": {},
   "source": [
    "## Prerequisites\n",
    "\n",
    "Before running this notebook, ensure you have:\n",
    "\n",
    "1. **Azure AI Project**: Access to an Azure AI Foundry project with deployed models\n",
    "2. **Authentication**: Azure CLI installed and authenticated (`az login --use-device-code`)\n",
    "3. **Environment Variables**: Set up your `.env` file with connection details\n",
    "4. **Dependencies**: Required agent-framework packages installed\n",
    "\n",
    "If you need to use a different tenant, specify the tenant ID:\n",
    "```bash\n",
    "az login --tenant <tenant-id>\n",
    "```\n",
    "\n",
    "This example demonstrates how to work with an existing Azure AI agent by connecting to it using its agent ID."
   ]
  },
  {
   "cell_type": "markdown",
   "id": "781cd568",
   "metadata": {},
   "source": [
    "## Import Libraries\n",
    "\n",
    "Import the required libraries for Azure AI agent functionality."
   ]
  },
  {
   "cell_type": "code",
   "execution_count": 9,
   "id": "96dad736",
   "metadata": {},
   "outputs": [],
   "source": [
    "import os\n",
    "from pathlib import Path\n",
    "from random import randint\n",
    "from typing import Annotated\n",
    "from agent_framework import ChatAgent\n",
    "from agent_framework.azure import AzureAIAgentClient\n",
    "from azure.ai.projects.aio import AIProjectClient\n",
    "from azure.identity.aio import AzureCliCredential\n",
    "from pydantic import Field\n"
   ]
  },
  {
   "cell_type": "markdown",
   "id": "ec375c37",
   "metadata": {},
   "source": [
    "## Initial Setup\n",
    "\n",
    "Initialize the Azure AI project client and set up authentication."
   ]
  },
  {
   "cell_type": "code",
   "execution_count": null,
   "id": "9d059692",
   "metadata": {},
   "outputs": [
    {
     "name": "stdout",
     "output_type": "stream",
     "text": [
      "📝 Note: The actual client initialization happens in the main() function using async context managers\n",
      "✅ Environment variables and async imports are ready for use\n"
     ]
    }
   ],
   "source": [
    "# This cell is for demonstration purposes only - actual async client setup is in the main() function\n",
    "# The main() function uses the proper async imports from cell 4\n",
    "from pathlib import Path  # For working with file paths\n",
    "import os  # For environment variables\n",
    "import time  # For sleep function\n",
    "from dotenv import load_dotenv  # For loading environment variables from .env file\n",
    "\n",
    "# Get the path to the .env file which is in the parent directory\n",
    "notebook_path = Path().absolute()  # Get absolute path of current notebook\n",
    "parent_dir = notebook_path.parent  # Get parent directory\n",
    "load_dotenv('.env')  # Load environment variables from .env file\n",
    "\n",
    "print(\"📝 Note: The actual client initialization happens in the main() function using async context managers\")\n",
    "print(\"✅ Environment variables and async imports are ready for use\")"
   ]
  },
  {
   "cell_type": "markdown",
   "id": "d0b756dd",
   "metadata": {},
   "source": [
    "## Check Environment Variables\n",
    "\n",
    "Let's verify that the required environment variables are set:"
   ]
  },
  {
   "cell_type": "code",
   "execution_count": 21,
   "id": "11840553",
   "metadata": {},
   "outputs": [
    {
     "name": "stdout",
     "output_type": "stream",
     "text": [
      "✅ AZURE_AI_PROJECT_ENDPOINT: https://kd-foundry-project-resource.services.ai.az...\n",
      "✅ AZURE_AI_MODEL_DEPLOYMENT_NAME: gpt-4o\n",
      "\n",
      "✅ All required environment variables are set!\n"
     ]
    }
   ],
   "source": [
    "# Check required environment variables\n",
    "required_vars = [\"AZURE_AI_PROJECT_ENDPOINT\", \"AZURE_AI_MODEL_DEPLOYMENT_NAME\"]\n",
    "missing_vars = []\n",
    "\n",
    "for var in required_vars:\n",
    "    value = os.getenv(var)\n",
    "    if value:\n",
    "        print(f\"✅ {var}: {value[:50]}...\" if len(value) > 50 else f\"✅ {var}: {value}\")\n",
    "    else:\n",
    "        print(f\"❌ {var}: Not set\")\n",
    "        missing_vars.append(var)\n",
    "\n",
    "if missing_vars:\n",
    "    print(f\"\\n⚠️  Please set the following environment variables: {', '.join(missing_vars)}\")\n",
    "else:\n",
    "    print(\"\\n✅ All required environment variables are set!\")"
   ]
  },
  {
   "cell_type": "markdown",
   "id": "58af3496",
   "metadata": {},
   "source": [
    "## Define Function Tools\n",
    "\n",
    "Let's define a simple weather function that our agent can use:"
   ]
  },
  {
   "cell_type": "code",
   "execution_count": 22,
   "id": "907d0a73",
   "metadata": {},
   "outputs": [],
   "source": [
    "def get_weather(\n",
    "    location: Annotated[str, Field(description=\"The location to get the weather for.\")],\n",
    ") -> str:\n",
    "    \"\"\"Get the weather for a given location.\"\"\"\n",
    "    conditions = [\"sunny\", \"cloudy\", \"rainy\", \"stormy\"]\n",
    "    return f\"The weather in {location} is {conditions[randint(0, 3)]} with a high of {randint(10, 30)}°C.\""
   ]
  },
  {
   "cell_type": "markdown",
   "id": "2e99e1c8",
   "metadata": {},
   "source": [
    "## Create and Use Existing Agent\n",
    "\n",
    "This example shows how to:\n",
    "1. Create an agent that persists beyond the current session\n",
    "2. Use the agent ID to work with an existing agent\n",
    "3. Properly clean up resources"
   ]
  },
  {
   "cell_type": "code",
   "execution_count": 26,
   "id": "8b165631",
   "metadata": {},
   "outputs": [],
   "source": [
    "async def main() -> None:\n",
    "    print(\"=== Azure AI Chat Client with Existing Agent ===\")\n",
    "\n",
    "    # Create the client using async versions\n",
    "    async with (\n",
    "        AzureCliCredential() as credential,\n",
    "        AIProjectClient(endpoint=os.environ[\"AZURE_AI_PROJECT_ENDPOINT\"], credential=credential) as client,\n",
    "    ):\n",
    "        # Create an agent that will persist\n",
    "        created_agent = await client.agents.create_agent(\n",
    "            model=os.environ[\"AZURE_AI_MODEL_DEPLOYMENT_NAME\"], \n",
    "            name=\"WeatherAgent\"\n",
    "        )\n",
    "        \n",
    "        print(f\"✅ Created agent with ID: {created_agent.id}\")\n",
    "\n",
    "        try:\n",
    "            async with ChatAgent(\n",
    "                # passing in the client is optional here, so if you take the agent_id from the portal\n",
    "                # you can use it directly without the two lines above.\n",
    "                chat_client=AzureAIAgentClient(project_client=client, agent_id=created_agent.id),\n",
    "                instructions=\"You are a helpful weather agent.\",\n",
    "                tools=get_weather,\n",
    "            ) as agent:\n",
    "                result = await agent.run(\"What's the weather like in Tokyo?\")\n",
    "                print(f\"Result: {result}\\n\")\n",
    "        finally:\n",
    "            # Clean up the agent manually (uncomment the lines below if you want to delete the agent)\n",
    "            # await client.agents.delete_agent(created_agent.id)\n",
    "            # print(f\"🗑️ Deleted agent with ID: {created_agent.id}\")\n",
    "            print(f\"💡 Agent with ID {created_agent.id} is still available for reuse\")"
   ]
  },
  {
   "cell_type": "markdown",
   "id": "1bd1c82a",
   "metadata": {},
   "source": [
    "## Execute the Example\n",
    "\n",
    "Run the main function to see the existing agent workflow:"
   ]
  },
  {
   "cell_type": "code",
   "execution_count": 27,
   "id": "9db05feb",
   "metadata": {},
   "outputs": [
    {
     "name": "stdout",
     "output_type": "stream",
     "text": [
      "=== Azure AI Chat Client with Existing Agent ===\n",
      "✅ Created agent with ID: asst_2XKr7UoD1qZigI8m5oEfFA3Z\n",
      "✅ Created agent with ID: asst_2XKr7UoD1qZigI8m5oEfFA3Z\n",
      "Result: The weather in Tokyo is sunny with a high of 23°C.\n",
      "\n",
      "💡 Agent with ID asst_2XKr7UoD1qZigI8m5oEfFA3Z is still available for reuse\n",
      "Result: The weather in Tokyo is sunny with a high of 23°C.\n",
      "\n",
      "💡 Agent with ID asst_2XKr7UoD1qZigI8m5oEfFA3Z is still available for reuse\n"
     ]
    }
   ],
   "source": [
    "# Run the main function\n",
    "await main()"
   ]
  },
  {
   "cell_type": "markdown",
   "id": "79304f10",
   "metadata": {},
   "source": [
    "## Working with Agent from Portal\n",
    "\n",
    "Here's an example of how to work with an agent that was created through the Azure AI Studio portal:"
   ]
  },
  {
   "cell_type": "code",
   "execution_count": 28,
   "id": "dfc402fd",
   "metadata": {},
   "outputs": [
    {
     "name": "stdout",
     "output_type": "stream",
     "text": [
      "=== Using Agent from Portal Example ===\n",
      "Note: To use a portal agent, replace 'your-agent-id-here' with your actual agent ID\n",
      "Current example agent ID: asst_2XKr7UoD1qZigI8m5oEfFA3Z\n"
     ]
    }
   ],
   "source": [
    "async def use_portal_agent_example():\n",
    "    \"\"\"Example showing how to use an agent created in the Azure AI Studio portal.\"\"\"\n",
    "    print(\"=== Using Agent from Portal Example ===\")\n",
    "    \n",
    "    # If you have an agent ID from the portal, you can use it directly\n",
    "    # Replace 'your-agent-id-here' with the actual agent ID from the portal\n",
    "    portal_agent_id = \"asst_2XKr7UoD1qZigI8m5oEfFA3Z\"  # Get this from Azure AI Studio\n",
    "    \n",
    "    print(f\"Note: To use a portal agent, replace 'your-agent-id-here' with your actual agent ID\")\n",
    "    print(f\"Current example agent ID: {portal_agent_id}\")\n",
    "    \n",
    "    # Uncomment and modify the following code to use a real portal agent:\n",
    "    \"\"\"\n",
    "    async with (\n",
    "        AzureCliCredential() as credential,\n",
    "        ChatAgent(\n",
    "            chat_client=AzureAIAgentClient(\n",
    "                async_credential=credential,\n",
    "                agent_id=portal_agent_id  # Use your actual agent ID here\n",
    "            ),\n",
    "            tools=get_weather,  # Add any additional tools needed\n",
    "        ) as agent,\n",
    "    ):\n",
    "        result = await agent.run(\"What's the weather like in London?\")\n",
    "        print(f\"Portal Agent Result: {result}\")\n",
    "    \"\"\"\n",
    "\n",
    "# Run the portal agent example\n",
    "await use_portal_agent_example()"
   ]
  },
  {
   "cell_type": "markdown",
   "id": "ca47999f",
   "metadata": {},
   "source": [
    "## Advanced Example: Persistent Agent Management\n",
    "\n",
    "This example shows how to create, list, and manage multiple agents:"
   ]
  },
  {
   "cell_type": "code",
   "execution_count": 30,
   "id": "138d9b6e",
   "metadata": {},
   "outputs": [
    {
     "name": "stdout",
     "output_type": "stream",
     "text": [
      "=== Agent Management Example ===\n",
      "📋 Existing agents:\n",
      "  - PersistentWeatherAgent (ID: asst_Uw0banRJdc0vIfa9XDNscOWG)\n",
      "  - WeatherAgent (ID: asst_2XKr7UoD1qZigI8m5oEfFA3Z)\n",
      "  - Agent454 (ID: asst_aEmCAyB7Byvg2xXOzAiyeyJL)\n",
      "  - triage-agent (ID: asst_n2CVbVsYFFk8TO7WyGIWyYa2)\n",
      "  - effort_agent (ID: asst_gVCB5mrQHHwI0Q6VGUCXkdXD)\n",
      "  - team_agent (ID: asst_0jH94jKRHdUMZJdm2YiNi1Yb)\n",
      "  - priority_agent (ID: asst_CBbi1JUrQLfaQmBuYFRFCrVS)\n",
      "  - triage-agent (ID: asst_LMRBMphI7Bp24S5pV9RHc5Ge)\n",
      "  - effort_agent (ID: asst_ciKwLHxru1PpRcTmt57RITza)\n",
      "  - team_agent (ID: asst_JdP9ibnuJrLRyodn4Vu5kVgj)\n",
      "  - priority_agent (ID: asst_VEv4cFlimau3ECIG0HNv1E2W)\n",
      "  - fitness-search-agent (ID: asst_lc7GNNOYv88HeFlfBy6pWXJg)\n",
      "  - health-bing-agent (ID: asst_M7VY9fo3OtFjxz1s3Oosx3Vs)\n",
      "  - health-bing-agent (ID: asst_6vBSIm0AzWu4EK9RY7u3smmG)\n",
      "  - health-search-agent (ID: asst_unyGnRHRU8Av1dWNSt7WGgNf)\n",
      "  - health-calculator-agent (ID: asst_DOxvz3s2WcxLOfspDblpRfEh)\n",
      "  - fun-fit-health-advisor (ID: asst_rxzs677vglMfRc8Np1CArXHN)\n",
      "  - health-search-agent (ID: asst_xWsYtpAY7OgUl0Ekc7gn87mg)\n",
      "  - health-search-agent (ID: asst_MC92GGjGf1JrJSDzzdVyV8tY)\n",
      "  - health-search-agent (ID: asst_dPQDTk8Jjg9SMB4Q7Orgdgkb)\n",
      "  - health-search-agent (ID: asst_18bb42eqFgt4vEwDs43RpzBJ)\n",
      "  - Fitness Shopping Assistant (ID: asst_8ErKdZ5aSnYkCYihWZ7kCeKa)\n",
      "  - inventory-agent (ID: asst_971VVEj5g2n6rXPTSMmYGZi1)\n",
      "  - inventory-agent (ID: asst_veKsku3Kgz02gMZoLfOT4TAB)\n",
      "  - inventory-agent (ID: asst_TEr7AcYYy2H8Gtxky8VXGrwP)\n",
      "  - triage-agent (ID: asst_luYoyoC9Q6CQGq6gYtxNEMii)\n",
      "  - effort_agent (ID: asst_dRXVd0f4zbKddgWt4BNjSr8L)\n",
      "  - team_agent (ID: asst_IyI8KANr2atdVAUfyOr90hEd)\n",
      "  - priority_agent (ID: asst_Q7mKcsJwkoOEySdHMPCWzLxa)\n",
      "  - security-test-agent (ID: asst_OYVD4py5joB7RcboJpfiYAp3)\n",
      "  - security-test-agent (ID: asst_ArKFbV8huIWtOu1IdChprqsk)\n",
      "  - health-search-agent (ID: asst_4r7AxcJvhAIWW6Inn5fSihqg)\n",
      "  - fitness-search-agent (ID: asst_0aQ6BBxz8MrYhVFvTVr4jar9)\n",
      "  - fitness-agent-advisor (ID: asst_jHrq0kzPozwsqFirWTfw4nc3)\n",
      "  - fitness-agent-basic (ID: asst_54VtSN3KHVKvj83Qy44gX0Zp)\n",
      "  - fitness-agent-basic (ID: asst_2w0o9ftNZ9tiyIpYcNuhiVKm)\n",
      "  - health-bing-agent (ID: asst_My8vfCubnrULrhyvLvLu9UFT)\n",
      "  - health-calculator-agent (ID: asst_80r9XdQ4xBTR5W4xiH8y7ePV)\n",
      "  - fun-fit-health-advisor (ID: asst_70whLVG0RJibokKgchaMzlOa)\n",
      "  - xfr-to-pyspark-converter (ID: asst_A3ZbJAQI20l3gONIkZOAnhZ3)\n",
      "  - code_conv_agent (ID: asst_RrjejrJLDYikBWFPVQaXihyf)\n",
      "  - Agent594 (ID: asst_ciQaYmiaSzV991VzKCgJ7Gmk)\n",
      "\n",
      "✅ Created persistent agent: PersistentWeatherAgent (ID: asst_HoC4TWl0e2x8ZzvFWjwpA6K5)\n",
      "\n",
      "🤔 User: What's the weather in New York?\n",
      "🤖 Agent: The weather in New York is rainy with a high of 25°C.\n",
      "\n",
      "🤔 User: How about in Paris?\n",
      "🤖 Agent: The weather in Paris is rainy with a high of 23°C.\n",
      "\n",
      "🤔 User: Compare the weather in Tokyo and Sydney\n",
      "🤖 Agent: The weather in Tokyo is cloudy with a high of 22°C, while Sydney is experiencing stormy conditions with the same high of 22°C.\n",
      "💡 Agent with ID asst_HoC4TWl0e2x8ZzvFWjwpA6K5 is still available for reuse\n"
     ]
    }
   ],
   "source": [
    "async def agent_management_example():\n",
    "    \"\"\"Advanced example showing agent management operations.\"\"\"\n",
    "    print(\"=== Agent Management Example ===\")\n",
    "    \n",
    "    async with (\n",
    "        AzureCliCredential() as credential,\n",
    "        AIProjectClient(endpoint=os.environ[\"AZURE_AI_PROJECT_ENDPOINT\"], credential=credential) as client,\n",
    "    ):\n",
    "        # List existing agents\n",
    "        print(\"📋 Existing agents:\")\n",
    "        agents = client.agents.list_agents()\n",
    "        async for agent in agents:\n",
    "            print(f\"  - {agent.name} (ID: {agent.id})\")\n",
    "        \n",
    "        # Create a new persistent agent\n",
    "        new_agent = await client.agents.create_agent(\n",
    "            model=os.environ[\"AZURE_AI_MODEL_DEPLOYMENT_NAME\"],\n",
    "            name=\"PersistentWeatherAgent\",\n",
    "            instructions=\"You are a persistent weather agent that provides detailed weather information.\"\n",
    "        )\n",
    "        print(f\"\\n✅ Created persistent agent: {new_agent.name} (ID: {new_agent.id})\")\n",
    "        \n",
    "        try:\n",
    "            # Use the agent multiple times\n",
    "            async with ChatAgent(\n",
    "                chat_client=AzureAIAgentClient(project_client=client, agent_id=new_agent.id),\n",
    "                tools=get_weather,\n",
    "            ) as agent:\n",
    "                \n",
    "                queries = [\n",
    "                    \"What's the weather in New York?\",\n",
    "                    \"How about in Paris?\",\n",
    "                    \"Compare the weather in Tokyo and Sydney\"\n",
    "                ]\n",
    "                \n",
    "                for query in queries:\n",
    "                    print(f\"\\n🤔 User: {query}\")\n",
    "                    result = await agent.run(query)\n",
    "                    print(f\"🤖 Agent: {result.text}\")\n",
    "                    \n",
    "        finally:\n",
    "            # Clean up the agent manually (uncomment the lines below if you want to delete the agent)\n",
    "            # await client.agents.delete_agent(created_agent.id)\n",
    "            # print(f\"🗑️ Deleted agent with ID: {created_agent.id}\")\n",
    "            print(f\"💡 Agent with ID {new_agent.id} is still available for reuse\")\n",
    "\n",
    "# Run the agent management example\n",
    "await agent_management_example()"
   ]
  },
  {
   "cell_type": "markdown",
   "id": "602d9e8e",
   "metadata": {},
   "source": [
    "## Key Takeaways\n",
    "\n",
    "1. **Persistent Agents**: Agents can be created to persist beyond a single session, useful for production scenarios\n",
    "2. **Agent ID Management**: You can work with agents using their IDs, whether created programmatically or through the portal\n",
    "3. **Resource Management**: Always clean up agents when they're no longer needed to avoid unnecessary costs\n",
    "4. **Production Patterns**: This approach is suitable for production applications where agents need to be reused\n",
    "5. **Portal Integration**: Agents created in Azure AI Studio can be used directly in code\n",
    "6. **Client Flexibility**: You can create agents with or without providing a project client\n",
    "\n",
    "## Best Practices\n",
    "\n",
    "1. **Environment Variables**: Use environment variables for configuration to keep credentials secure\n",
    "2. **Error Handling**: Always use try-finally blocks to ensure agent cleanup\n",
    "3. **Agent Naming**: Use descriptive names for agents to make management easier\n",
    "4. **Documentation**: Keep track of agent IDs and their purposes\n",
    "5. **Resource Monitoring**: Monitor your Azure AI resource usage when working with persistent agents\n",
    "\n",
    "## Use Cases\n",
    "\n",
    "- **Production Applications**: Where agents need to persist across multiple user sessions\n",
    "- **Team Collaboration**: Sharing agents across team members\n",
    "- **Multi-Session Conversations**: Maintaining agent state across sessions\n",
    "- **Agent Libraries**: Creating reusable agents for common tasks\n",
    "- **Integration with Azure AI Studio**: Using agents created through the web interface"
   ]
  }
 ],
 "metadata": {
  "kernelspec": {
   "display_name": ".venv",
   "language": "python",
   "name": "python3"
  },
  "language_info": {
   "codemirror_mode": {
    "name": "ipython",
    "version": 3
   },
   "file_extension": ".py",
   "mimetype": "text/x-python",
   "name": "python",
   "nbconvert_exporter": "python",
   "pygments_lexer": "ipython3",
   "version": "3.12.10"
  }
 },
 "nbformat": 4,
 "nbformat_minor": 5
}
