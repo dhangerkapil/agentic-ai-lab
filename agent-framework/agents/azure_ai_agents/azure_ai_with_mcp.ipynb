{
 "cells": [
  {
   "cell_type": "markdown",
   "id": "37d13e52",
   "metadata": {},
   "source": [
    "# Azure AI Agent with Hosted MCP Example\n",
    "\n",
    "This notebook demonstrates integration of Azure AI Agents with hosted Model Context Protocol (MCP) servers, including user approval workflows for function call security.\n",
    "\n",
    "## Features Covered:\n",
    "- Hosted MCP tool integration\n",
    "- User approval workflows for function calls\n",
    "- Thread-based conversation management\n",
    "- Azure AI observability setup\n",
    "- Microsoft Learn MCP server integration"
   ]
  },
  {
   "cell_type": "markdown",
   "id": "86384ede",
   "metadata": {},
   "source": [
    "## Prerequisites\n",
    "\n",
    "Before running this notebook, ensure you have:\n",
    "\n",
    "1. **Azure AI Project**: Access to an Azure AI Foundry project with deployed models\n",
    "2. **Authentication**: Azure CLI installed and authenticated (`az login --use-device-code`)\n",
    "3. **Environment Variables**: Set up your `.env` file with connection details\n",
    "4. **Dependencies**: Required agent-framework packages installed\n",
    "\n",
    "If you need to use a different tenant, specify the tenant ID:\n",
    "```bash\n",
    "az login --tenant <tenant-id>\n",
    "```"
   ]
  },
  {
   "cell_type": "markdown",
   "id": "38adb63e",
   "metadata": {},
   "source": [
    "## Import Libraries\n",
    "\n",
    "Import the required libraries for Azure AI agent functionality with MCP integration."
   ]
  },
  {
   "cell_type": "code",
   "execution_count": 1,
   "id": "5efd7b9e",
   "metadata": {},
   "outputs": [
    {
     "data": {
      "text/plain": [
       "True"
      ]
     },
     "execution_count": 1,
     "metadata": {},
     "output_type": "execute_result"
    }
   ],
   "source": [
    "import os\n",
    "from pathlib import Path\n",
    "import asyncio\n",
    "from typing import Any\n",
    "\n",
    "from agent_framework import AgentProtocol, AgentThread, HostedMCPTool, ChatMessage\n",
    "from agent_framework.azure import AzureAIAgentClient\n",
    "from azure.identity.aio import AzureCliCredential\n",
    "from dotenv import load_dotenv  # For loading environment variables from .env file\n",
    "\n",
    "# Get the path to the .env file which is in the parent directory\n",
    "notebook_path = Path().absolute()  # Get absolute path of current notebook\n",
    "parent_dir = notebook_path.parent  # Get parent directory\n",
    "load_dotenv('.env')  # Load environment variables from .env file"
   ]
  },
  {
   "cell_type": "code",
   "execution_count": 2,
   "id": "a99168e3",
   "metadata": {},
   "outputs": [
    {
     "name": "stdout",
     "output_type": "stream",
     "text": [
      "📝 Note: The actual client initialization happens in the main functions using async context managers\n",
      "✅ Environment variables and async imports are ready for use\n"
     ]
    }
   ],
   "source": [
    "# This cell is for demonstration purposes only - actual async client setup is in the main functions\n",
    "# The main functions use the proper async imports from the previous cell\n",
    "\n",
    "print(\"📝 Note: The actual client initialization happens in the main functions using async context managers\")\n",
    "print(\"✅ Environment variables and async imports are ready for use\")"
   ]
  },
  {
   "cell_type": "markdown",
   "id": "50018673",
   "metadata": {},
   "source": [
    "## Check Environment Variables\n",
    "\n",
    "Let's verify that the required environment variables are set:"
   ]
  },
  {
   "cell_type": "code",
   "execution_count": 3,
   "id": "f7e5da3a",
   "metadata": {},
   "outputs": [
    {
     "name": "stdout",
     "output_type": "stream",
     "text": [
      "✅ AZURE_AI_PROJECT_ENDPOINT: https://kd-foundry-project-resource.services.ai.az...\n",
      "✅ AZURE_AI_MODEL_DEPLOYMENT_NAME: gpt-4o\n",
      "\n",
      "✅ All required environment variables are set!\n"
     ]
    }
   ],
   "source": [
    "# Check required environment variables\n",
    "required_vars = [\"AZURE_AI_PROJECT_ENDPOINT\", \"AZURE_AI_MODEL_DEPLOYMENT_NAME\"]\n",
    "missing_vars = []\n",
    "\n",
    "for var in required_vars:\n",
    "    value = os.getenv(var)\n",
    "    if value:\n",
    "        print(f\"✅ {var}: {value[:50]}...\" if len(value) > 50 else f\"✅ {var}: {value}\")\n",
    "    else:\n",
    "        print(f\"❌ {var}: Not set\")\n",
    "        missing_vars.append(var)\n",
    "\n",
    "if missing_vars:\n",
    "    print(f\"\\n⚠️  Please set the following environment variables: {', '.join(missing_vars)}\")\n",
    "else:\n",
    "    print(\"\\n✅ All required environment variables are set!\")"
   ]
  },
  {
   "cell_type": "markdown",
   "id": "0eeb287e",
   "metadata": {},
   "source": [
    "## User Approval Handler\n",
    "\n",
    "Define a function to handle user approvals for function calls, providing security for MCP tool executions:"
   ]
  },
  {
   "cell_type": "code",
   "execution_count": 4,
   "id": "ad0a4cc4",
   "metadata": {},
   "outputs": [],
   "source": [
    "async def handle_approvals_with_thread(query: str, agent: \"AgentProtocol\", thread: \"AgentThread\"):\n",
    "    \"\"\"Handle user approvals for function calls in a thread context.\n",
    "    \n",
    "    This function manages the approval workflow for MCP tool function calls,\n",
    "    providing security by requiring user consent before executing functions.\n",
    "    \"\"\"\n",
    "    result = await agent.run(query, thread=thread, store=True)\n",
    "    \n",
    "    while len(result.user_input_requests) > 0:\n",
    "        new_input: list[Any] = []\n",
    "        \n",
    "        for user_input_needed in result.user_input_requests:\n",
    "            print(f\"\\n🔐 User Input Request for function from {agent.name}:\")\n",
    "            print(f\"   Function: {user_input_needed.function_call.name}\")\n",
    "            print(f\"   Arguments: {user_input_needed.function_call.arguments}\")\n",
    "            \n",
    "            # In a notebook environment, we'll automatically approve for demonstration\n",
    "            # In production, you would implement proper user input mechanisms\n",
    "            user_approval = \"y\"  # Auto-approve for demo\n",
    "            print(f\"   📝 Auto-approving for demonstration: {user_approval}\")\n",
    "            \n",
    "            new_input.append(\n",
    "                ChatMessage(\n",
    "                    role=\"user\",\n",
    "                    contents=[user_input_needed.create_response(user_approval.lower() == \"y\")],\n",
    "                )\n",
    "            )\n",
    "        \n",
    "        result = await agent.run(new_input, thread=thread, store=True)\n",
    "    \n",
    "    return result"
   ]
  },
  {
   "cell_type": "markdown",
   "id": "e6b2515b",
   "metadata": {},
   "source": [
    "## Main MCP Integration Example\n",
    "\n",
    "This example demonstrates the complete workflow:\n",
    "1. Set up Azure AI client with observability\n",
    "2. Create an agent with hosted MCP tools\n",
    "3. Execute queries with user approval workflow\n",
    "4. Demonstrate thread-based conversation management"
   ]
  },
  {
   "cell_type": "code",
   "execution_count": 5,
   "id": "c231e911",
   "metadata": {},
   "outputs": [],
   "source": [
    "async def main() -> None:\n",
    "    \"\"\"Example showing Hosted MCP tools for an Azure AI Agent.\"\"\"\n",
    "    async with (\n",
    "        AzureCliCredential() as credential,\n",
    "        AzureAIAgentClient(async_credential=credential) as chat_client,\n",
    "    ):\n",
    "        # Enable azure-ai observability\n",
    "        print(\"🔍 Setting up Azure AI observability...\")\n",
    "        await chat_client.setup_azure_ai_observability()\n",
    "        print(\"✅ Azure AI observability enabled\")\n",
    "        \n",
    "        # Create agent with hosted MCP tool\n",
    "        print(\"\\n🤖 Creating agent with Microsoft Learn MCP server...\")\n",
    "        agent = chat_client.create_agent(\n",
    "            name=\"DocsAgent\",\n",
    "            instructions=\"You are a helpful assistant that can help with Microsoft documentation questions.\",\n",
    "            tools=HostedMCPTool(\n",
    "                name=\"Microsoft Learn MCP\",\n",
    "                url=\"https://learn.microsoft.com/api/mcp\",\n",
    "            ),\n",
    "        )\n",
    "        print(f\"✅ Created agent: {agent.name}\")\n",
    "        \n",
    "        # Create a new thread for conversation\n",
    "        thread = agent.get_new_thread()\n",
    "        print(f\"📝 Created new conversation thread\")\n",
    "        \n",
    "        # First query\n",
    "        query1 = \"How to create an Azure storage account using az cli?\"\n",
    "        print(f\"\\n=== Query 1 ===\")\n",
    "        print(f\"🤔 User: {query1}\")\n",
    "        result1 = await handle_approvals_with_thread(query1, agent, thread)\n",
    "        print(f\"🤖 {agent.name}: {result1.text}\")\n",
    "        \n",
    "        print(\"\\n=======================================\")\n",
    "        \n",
    "        # Second query\n",
    "        query2 = \"What is Microsoft Agent Framework?\"\n",
    "        print(f\"\\n=== Query 2 ===\")\n",
    "        print(f\"🤔 User: {query2}\")\n",
    "        result2 = await handle_approvals_with_thread(query2, agent, thread)\n",
    "        print(f\"🤖 {agent.name}: {result2.text}\")"
   ]
  },
  {
   "cell_type": "markdown",
   "id": "c74bdee0",
   "metadata": {},
   "source": [
    "## Execute the Example\n",
    "\n",
    "Run the main function to see the hosted MCP integration in action:"
   ]
  },
  {
   "cell_type": "code",
   "execution_count": 6,
   "id": "8f30d139",
   "metadata": {},
   "outputs": [
    {
     "name": "stdout",
     "output_type": "stream",
     "text": [
      "🔍 Setting up Azure AI observability...\n"
     ]
    },
    {
     "name": "stderr",
     "output_type": "stream",
     "text": [
      "[2025-10-05 18:33:55 - c:\\Users\\kapildhanger\\OneDrive - Microsoft\\Microsoft_Kapil\\Azure_learning\\agent-framework\\agent-framework\\.venv\\Lib\\site-packages\\azure\\monitor\\opentelemetry\\exporter\\statsbeat\\_manager.py:189 - WARNING] Statsbeat re-initialized with the same configuration.\n",
      "[2025-10-05 18:33:55 - c:\\Users\\kapildhanger\\OneDrive - Microsoft\\Microsoft_Kapil\\Azure_learning\\agent-framework\\agent-framework\\.venv\\Lib\\site-packages\\azure\\monitor\\opentelemetry\\exporter\\statsbeat\\_manager.py:189 - WARNING] Statsbeat re-initialized with the same configuration.\n",
      "[2025-10-05 18:33:55 - c:\\Users\\kapildhanger\\OneDrive - Microsoft\\Microsoft_Kapil\\Azure_learning\\agent-framework\\agent-framework\\.venv\\Lib\\site-packages\\azure\\monitor\\opentelemetry\\exporter\\statsbeat\\_manager.py:189 - WARNING] Statsbeat re-initialized with the same configuration.\n"
     ]
    },
    {
     "name": "stdout",
     "output_type": "stream",
     "text": [
      "✅ Azure AI observability enabled\n",
      "\n",
      "🤖 Creating agent with Microsoft Learn MCP server...\n",
      "✅ Created agent: DocsAgent\n",
      "📝 Created new conversation thread\n",
      "\n",
      "=== Query 1 ===\n",
      "🤔 User: How to create an Azure storage account using az cli?\n",
      "\n",
      "🔐 User Input Request for function from DocsAgent:\n",
      "   Function: microsoft_code_sample_search\n",
      "   Arguments: {\"query\":\"create Azure storage account using az cli\",\"language\":\"azurecli\"}\n",
      "   📝 Auto-approving for demonstration: y\n",
      "\n",
      "🔐 User Input Request for function from DocsAgent:\n",
      "   Function: microsoft_code_sample_search\n",
      "   Arguments: {\"query\":\"create Azure storage account using az cli\",\"language\":\"azurecli\"}\n",
      "   📝 Auto-approving for demonstration: y\n",
      "🤖 DocsAgent: You can create an Azure Storage account using Azure CLI with the following command:\n",
      "\n",
      "```azurecli\n",
      "az storage account create \\\n",
      "  --name <account-name> \\\n",
      "  --resource-group <resource-group> \\\n",
      "  --location <location> \\\n",
      "  --sku Standard_LRS \\\n",
      "  --kind StorageV2\n",
      "```\n",
      "\n",
      "### Parameters:\n",
      "- `<account-name>`: The name of your storage account.\n",
      "- `<resource-group>`: The name of the resource group where the storage account is created.\n",
      "- `<location>`: The Azure region where the storage account will be located (e.g., \"eastus\").\n",
      "- `--sku Standard_LRS`: Specifies the SKU, which in this case is Standard Locally Redundant Storage.\n",
      "- `--kind StorageV2`: Specifies the type of storage account (Version 2).\n",
      "\n",
      "For more details, you can refer to the [Azure CLI documentation for creating a storage account](https://learn.microsoft.com/en-us/azure/storage/common/storage-account-create#create-a-storage-account).\n",
      "\n",
      "=======================================\n",
      "\n",
      "=== Query 2 ===\n",
      "🤔 User: What is Microsoft Agent Framework?\n",
      "🤖 DocsAgent: You can create an Azure Storage account using Azure CLI with the following command:\n",
      "\n",
      "```azurecli\n",
      "az storage account create \\\n",
      "  --name <account-name> \\\n",
      "  --resource-group <resource-group> \\\n",
      "  --location <location> \\\n",
      "  --sku Standard_LRS \\\n",
      "  --kind StorageV2\n",
      "```\n",
      "\n",
      "### Parameters:\n",
      "- `<account-name>`: The name of your storage account.\n",
      "- `<resource-group>`: The name of the resource group where the storage account is created.\n",
      "- `<location>`: The Azure region where the storage account will be located (e.g., \"eastus\").\n",
      "- `--sku Standard_LRS`: Specifies the SKU, which in this case is Standard Locally Redundant Storage.\n",
      "- `--kind StorageV2`: Specifies the type of storage account (Version 2).\n",
      "\n",
      "For more details, you can refer to the [Azure CLI documentation for creating a storage account](https://learn.microsoft.com/en-us/azure/storage/common/storage-account-create#create-a-storage-account).\n",
      "\n",
      "=======================================\n",
      "\n",
      "=== Query 2 ===\n",
      "🤔 User: What is Microsoft Agent Framework?\n",
      "\n",
      "🔐 User Input Request for function from DocsAgent:\n",
      "   Function: microsoft_docs_search\n",
      "   Arguments: {\"query\":\"Microsoft Agent Framework\"}\n",
      "   📝 Auto-approving for demonstration: y\n",
      "\n",
      "🔐 User Input Request for function from DocsAgent:\n",
      "   Function: microsoft_docs_search\n",
      "   Arguments: {\"query\":\"Microsoft Agent Framework\"}\n",
      "   📝 Auto-approving for demonstration: y\n",
      "🤖 DocsAgent: The Microsoft Agent Framework is a foundational framework designed to enable the development of intelligent agents that integrate seamlessly with AI services, tools, and workflows. It provides a consistent structure to build AI-based solutions, with features to accommodate different use cases such as multi-agent orchestration, chat-based interactions, and background workflows.\n",
      "\n",
      "### Key Features:\n",
      "- **Agent Types**: Includes simple agents (e.g., based on inference services like Azure OpenAI) and custom agents that allow full control over behavior.\n",
      "- **Multi-agent Orchestration**: Orchestrating multiple agents with specific coordination models.\n",
      "- **Integration with Services**: The framework supports various inference services such as Azure AI Foundry, OpenAI services, and custom inference clients.\n",
      "- **Workflows**: Allows for automating business processes by combining agents and predefined workflows.\n",
      "\n",
      "The framework is built on the `AIAgent` base class, which provides a standard interface for agent development. Depending on your use case, you can create simple agents using predefined client libraries (e.g., for Azure OpenAI services) or custom agents for more complex scenarios.\n",
      "\n",
      "For specific usage examples and setup instructions, you can explore further in the [Microsoft Agent Framework User Guide](https://learn.microsoft.com/en-us/agent-framework/user-guide/agents/agent-types/).\n",
      "🤖 DocsAgent: The Microsoft Agent Framework is a foundational framework designed to enable the development of intelligent agents that integrate seamlessly with AI services, tools, and workflows. It provides a consistent structure to build AI-based solutions, with features to accommodate different use cases such as multi-agent orchestration, chat-based interactions, and background workflows.\n",
      "\n",
      "### Key Features:\n",
      "- **Agent Types**: Includes simple agents (e.g., based on inference services like Azure OpenAI) and custom agents that allow full control over behavior.\n",
      "- **Multi-agent Orchestration**: Orchestrating multiple agents with specific coordination models.\n",
      "- **Integration with Services**: The framework supports various inference services such as Azure AI Foundry, OpenAI services, and custom inference clients.\n",
      "- **Workflows**: Allows for automating business processes by combining agents and predefined workflows.\n",
      "\n",
      "The framework is built on the `AIAgent` base class, which provides a standard interface for agent development. Depending on your use case, you can create simple agents using predefined client libraries (e.g., for Azure OpenAI services) or custom agents for more complex scenarios.\n",
      "\n",
      "For specific usage examples and setup instructions, you can explore further in the [Microsoft Agent Framework User Guide](https://learn.microsoft.com/en-us/agent-framework/user-guide/agents/agent-types/).\n"
     ]
    }
   ],
   "source": [
    "# Run the main function\n",
    "await main()"
   ]
  },
  {
   "cell_type": "markdown",
   "id": "05df86da",
   "metadata": {},
   "source": [
    "## Key Takeaways\n",
    "\n",
    "1. **Hosted MCP Tools**: Enable integration with external Model Context Protocol servers\n",
    "2. **User Approval Workflows**: Provide security by requiring consent for function calls\n",
    "3. **Thread Management**: Maintain conversation context across multiple queries\n",
    "4. **Azure AI Observability**: Built-in monitoring and tracing for agent interactions\n",
    "5. **Microsoft Learn Integration**: Access to comprehensive Microsoft documentation\n",
    "6. **Error Handling**: Robust error handling for production scenarios\n",
    "\n",
    "## Best Practices\n",
    "\n",
    "1. **Security First**: Always implement proper approval workflows for function calls\n",
    "2. **Observability**: Enable Azure AI observability for monitoring and debugging\n",
    "3. **Thread Management**: Use threads to maintain conversation context\n",
    "4. **Error Handling**: Implement comprehensive error handling for reliability\n",
    "5. **Custom Approvals**: Tailor approval logic to your specific security requirements\n",
    "6. **Resource Cleanup**: Properly manage agent and thread lifecycles\n",
    "\n",
    "## Use Cases\n",
    "\n",
    "- **Documentation Assistance**: AI-powered help with Microsoft technologies\n",
    "- **Technical Support**: Automated support with human oversight\n",
    "- **Knowledge Management**: Organizational knowledge base integration\n",
    "- **Training and Education**: Interactive learning with documentation\n",
    "- **Code Generation**: Context-aware code examples and templates\n",
    "- **Compliance**: Secure function execution with approval workflows"
   ]
  }
 ],
 "metadata": {
  "kernelspec": {
   "display_name": ".venv",
   "language": "python",
   "name": "python3"
  },
  "language_info": {
   "codemirror_mode": {
    "name": "ipython",
    "version": 3
   },
   "file_extension": ".py",
   "mimetype": "text/x-python",
   "name": "python",
   "nbconvert_exporter": "python",
   "pygments_lexer": "ipython3",
   "version": "3.12.10"
  }
 },
 "nbformat": 4,
 "nbformat_minor": 5
}
